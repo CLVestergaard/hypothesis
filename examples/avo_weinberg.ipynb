{
 "cells": [
  {
   "cell_type": "markdown",
   "metadata": {},
   "source": [
    "# Adversarial Variational Optimization: Weinberg benchmark"
   ]
  },
  {
   "cell_type": "code",
   "execution_count": 1,
   "metadata": {},
   "outputs": [],
   "source": [
    "import cag\n",
    "import torch\n",
    "import matplotlib.pyplot as plt"
   ]
  },
  {
   "cell_type": "code",
   "execution_count": 2,
   "metadata": {},
   "outputs": [
    {
     "name": "stderr",
     "output_type": "stream",
     "text": [
      "/home/joeri/Anaconda/lib/python3.6/site-packages/matplotlib/axes/_axes.py:6571: UserWarning: The 'normed' kwarg is deprecated, and has been replaced by the 'density' kwarg.\n",
      "  warnings.warn(\"The 'normed' kwarg is deprecated, and has been \"\n"
     ]
    },
    {
     "data": {
      "image/png": "[encoded data removed]",
      "text/plain": [
       "<Figure size 432x288 with 1 Axes>"
      ]
     },
     "metadata": {},
     "output_type": "display_data"
    }
   ],
   "source": [
    "from cag.benchmark.weinberg import allocate_observations\n",
    "\n",
    "# Allocate the true observations.\n",
    "true_beam = 45.\n",
    "true_fermi_constant = .95\n",
    "theta = torch.tensor([true_beam, true_fermi_constant])\n",
    "theta_true, x_o = allocate_observations(theta)\n",
    "# Allocate some random guess.\n",
    "guess_beam = 41.\n",
    "guess_fermi_constant = 1.6\n",
    "theta = torch.tensor([guess_beam, guess_fermi_constant])\n",
    "_, x_guess = allocate_observations(theta)\n",
    "\n",
    "# Show the observations.\n",
    "plt.hist(x_o.numpy(), bins=50, normed=True, histtype='step', stacked=True, fill=False, lw=1, label=\"Observed\")\n",
    "plt.hist(x_guess.numpy(), bins=50, normed=True, histtype='step', stacked=True, fill=False, lw=1, label=\"Guess\")\n",
    "plt.xlim([-1, 1])\n",
    "plt.legend()\n",
    "plt.show()"
   ]
  },
  {
   "cell_type": "markdown",
   "metadata": {},
   "source": [
    "## AVO\n",
    "\n",
    "### Discriminator"
   ]
  },
  {
   "cell_type": "code",
   "execution_count": 3,
   "metadata": {},
   "outputs": [],
   "source": [
    "num_hidden = 200\n",
    "discriminator = torch.nn.Sequential(\n",
    "    torch.nn.Linear(1, num_hidden),\n",
    "    torch.nn.PReLU(),\n",
    "    torch.nn.Linear(num_hidden, num_hidden),\n",
    "    torch.nn.PReLU(),\n",
    "    torch.nn.Linear(num_hidden, num_hidden),\n",
    "    torch.nn.PReLU(),\n",
    "    torch.nn.Linear(num_hidden, num_hidden),\n",
    "    torch.nn.PReLU(),\n",
    "    torch.nn.Linear(num_hidden, num_hidden),\n",
    "    torch.nn.PReLU(),\n",
    "    torch.nn.Linear(num_hidden, num_hidden),\n",
    "    torch.nn.PReLU(),\n",
    "    torch.nn.Linear(num_hidden, num_hidden),\n",
    "    torch.nn.PReLU(),\n",
    "    torch.nn.Linear(num_hidden, num_hidden),\n",
    "    torch.nn.PReLU(),\n",
    "    torch.nn.Linear(num_hidden, num_hidden),\n",
    "    torch.nn.PReLU(),\n",
    "    torch.nn.Linear(num_hidden, num_hidden),\n",
    "    torch.nn.PReLU(),\n",
    "    torch.nn.Linear(num_hidden, 1),\n",
    "    torch.nn.Sigmoid()\n",
    ")"
   ]
  },
  {
   "cell_type": "markdown",
   "metadata": {},
   "source": [
    "### Simulator"
   ]
  },
  {
   "cell_type": "code",
   "execution_count": 4,
   "metadata": {},
   "outputs": [],
   "source": [
    "from cag.benchmark.weinberg import WeinbergSimulator as Simulator\n",
    "\n",
    "simulator = Simulator()"
   ]
  },
  {
   "cell_type": "markdown",
   "metadata": {},
   "source": [
    "### Proposal"
   ]
  },
  {
   "cell_type": "code",
   "execution_count": 5,
   "metadata": {},
   "outputs": [],
   "source": [
    "from cag.proposal import MultivariateNormalProposal\n",
    "\n",
    "mu = torch.tensor([45., 1.])\n",
    "sigma = torch.eye(2)\n",
    "proposal = MultivariateNormalProposal(mu, sigma)"
   ]
  },
  {
   "cell_type": "markdown",
   "metadata": {},
   "source": [
    "### Inference"
   ]
  },
  {
   "cell_type": "code",
   "execution_count": 6,
   "metadata": {},
   "outputs": [],
   "source": [
    "from cag.method import AdversarialVariationalOptimization\n",
    "\n",
    "avo = AdversarialVariationalOptimization(simulator, discriminator, proposal)"
   ]
  },
  {
   "cell_type": "code",
   "execution_count": null,
   "metadata": {},
   "outputs": [],
   "source": [
    "proposal = avo.infer(x_o, num_steps=5000)"
   ]
  },
  {
   "cell_type": "code",
   "execution_count": 9,
   "metadata": {},
   "outputs": [
    {
     "name": "stderr",
     "output_type": "stream",
     "text": [
      "/home/joeri/Anaconda/lib/python3.6/site-packages/matplotlib/axes/_axes.py:6571: UserWarning: The 'normed' kwarg is deprecated, and has been replaced by the 'density' kwarg.\n",
      "  warnings.warn(\"The 'normed' kwarg is deprecated, and has been \"\n"
     ]
    },
    {
     "data": {
      "image/png": "[encoded data removed]",
      "text/plain": [
       "<Figure size 432x288 with 1 Axes>"
      ]
     },
     "metadata": {},
     "output_type": "display_data"
    }
   ],
   "source": [
    "# Allocate the inferred proposal.\n",
    "_, x_inferred = allocate_observations(proposal._mu)\n",
    "\n",
    "# Show the observations.\n",
    "plt.hist(x_o.numpy(), bins=50, normed=True, histtype='step', stacked=True, fill=False, lw=1, label=\"Observed\")\n",
    "plt.hist(x_inferred.numpy(), bins=50, normed=True, histtype='step', stacked=True, fill=False, lw=1, label=\"Inferred\")\n",
    "plt.xlim([-1, 1])\n",
    "plt.legend()\n",
    "plt.show()"
   ]
  }
 ],
 "metadata": {
  "kernelspec": {
   "display_name": "Python 3",
   "language": "python",
   "name": "python3"
  },
  "language_info": {
   "codemirror_mode": {
    "name": "ipython",
    "version": 3
   },
   "file_extension": ".py",
   "mimetype": "text/x-python",
   "name": "python",
   "nbconvert_exporter": "python",
   "pygments_lexer": "ipython3",
   "version": "3.6.4"
  }
 },
 "nbformat": 4,
 "nbformat_minor": 2
}
