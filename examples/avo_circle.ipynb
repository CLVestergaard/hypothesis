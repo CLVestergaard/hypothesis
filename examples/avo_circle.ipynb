{
 "cells": [
  {
   "cell_type": "markdown",
   "metadata": {},
   "source": [
    "# Adversarial Variational Optimization: Circle benchmark"
   ]
  },
  {
   "cell_type": "code",
   "execution_count": 1,
   "metadata": {},
   "outputs": [],
   "source": [
    "import cag\n",
    "import torch\n",
    "import matplotlib.pyplot as plt"
   ]
  },
  {
   "cell_type": "code",
   "execution_count": 2,
   "metadata": {},
   "outputs": [
    {
     "data": {
      "image/png": "[encoded data removed]",
      "text/plain": [
       "<Figure size 432x288 with 1 Axes>"
      ]
     },
     "metadata": {},
     "output_type": "display_data"
    }
   ],
   "source": [
    "from cag.benchmark.circle import allocate_observations\n",
    "\n",
    "# Allocate the true observations.\n",
    "true_radius = .3\n",
    "true_x = .5\n",
    "true_y = .5\n",
    "theta = [true_radius, true_x, true_y]\n",
    "theta_true, x_o = allocate_observations(theta, 128)\n",
    "\n",
    "x_o = x_o + torch.rand_like(x_o)\n",
    "\n",
    "# Show the mean observation.\n",
    "plt.imshow(x_o.mean(dim=0).numpy())\n",
    "plt.show()"
   ]
  },
  {
   "cell_type": "markdown",
   "metadata": {},
   "source": [
    "## AVO\n",
    "\n",
    "### Discriminator"
   ]
  },
  {
   "cell_type": "code",
   "execution_count": 3,
   "metadata": {},
   "outputs": [],
   "source": [
    "class Discriminator(torch.nn.Module):\n",
    "    \n",
    "    def __init__(self, simulator_resolution=64):\n",
    "        super(Discriminator, self).__init__()\n",
    "        self._simulator_resolution = simulator_resolution\n",
    "        self._model = torch.nn.Sequential(\n",
    "            torch.nn.Linear(simulator_resolution ** 2, 400),\n",
    "            torch.nn.PReLU(),\n",
    "            torch.nn.Linear(400, 200),\n",
    "            torch.nn.PReLU(),\n",
    "            torch.nn.Linear(200, 100),\n",
    "            torch.nn.PReLU(),\n",
    "            torch.nn.Linear(100, 50),\n",
    "            torch.nn.PReLU(),\n",
    "            torch.nn.Linear(50, 1),\n",
    "            torch.nn.Sigmoid()\n",
    "        )\n",
    "        \n",
    "    def forward(self, x):\n",
    "        x = x.view(-1, self._simulator_resolution ** 2)\n",
    "        y_hat = self._model(x)\n",
    "        \n",
    "        return y_hat\n",
    "    \n",
    "    \n",
    "discriminator = Discriminator()"
   ]
  },
  {
   "cell_type": "markdown",
   "metadata": {},
   "source": [
    "### Simulator"
   ]
  },
  {
   "cell_type": "code",
   "execution_count": 4,
   "metadata": {},
   "outputs": [],
   "source": [
    "from cag.benchmark.circle import CircleSimulator as Simulator\n",
    "\n",
    "simulator = Simulator()"
   ]
  },
  {
   "cell_type": "markdown",
   "metadata": {},
   "source": [
    "### Proposal"
   ]
  },
  {
   "cell_type": "code",
   "execution_count": 5,
   "metadata": {},
   "outputs": [],
   "source": [
    "from cag.proposal import MultivariateNormalProposal\n",
    "\n",
    "mean = torch.zeros(3)\n",
    "sigma = torch.eye(3)\n",
    "proposal = MultivariateNormalProposal(mean, sigma)"
   ]
  },
  {
   "cell_type": "markdown",
   "metadata": {},
   "source": [
    "### Inference"
   ]
  },
  {
   "cell_type": "code",
   "execution_count": 6,
   "metadata": {},
   "outputs": [],
   "source": [
    "from cag.method import SingleObservationAdversarialVariationalOptimization as SAVO\n",
    "\n",
    "discriminator = Discriminator()\n",
    "avo = SAVO(simulator, discriminator, proposal)"
   ]
  },
  {
   "cell_type": "code",
   "execution_count": 18,
   "metadata": {},
   "outputs": [
    {
     "name": "stdout",
     "output_type": "stream",
     "text": [
      "tensor([-0.0190,  0.3970, -0.2505], requires_grad=True)\n"
     ]
    }
   ],
   "source": [
    "proposal = avo.infer(x_o)\n",
    "\n",
    "print(proposal._mu)"
   ]
  },
  {
   "cell_type": "code",
   "execution_count": 19,
   "metadata": {},
   "outputs": [
    {
     "name": "stdout",
     "output_type": "stream",
     "text": [
      "tensor([-0.0190,  0.3970, -0.2505], requires_grad=True)\n"
     ]
    }
   ],
   "source": [
    "print(proposal._mu)"
   ]
  },
  {
   "cell_type": "code",
   "execution_count": null,
   "metadata": {},
   "outputs": [],
   "source": []
  }
 ],
 "metadata": {
  "kernelspec": {
   "display_name": "Python 3",
   "language": "python",
   "name": "python3"
  },
  "language_info": {
   "codemirror_mode": {
    "name": "ipython",
    "version": 3
   },
   "file_extension": ".py",
   "mimetype": "text/x-python",
   "name": "python",
   "nbconvert_exporter": "python",
   "pygments_lexer": "ipython3",
   "version": "3.6.4"
  }
 },
 "nbformat": 4,
 "nbformat_minor": 2
}
