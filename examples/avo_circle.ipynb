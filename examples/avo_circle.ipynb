{
 "cells": [
  {
   "cell_type": "markdown",
   "metadata": {},
   "source": [
    "# Adversarial Variational Optimization: Circle benchmark"
   ]
  },
  {
   "cell_type": "code",
   "execution_count": 1,
   "metadata": {},
   "outputs": [],
   "source": [
    "import cag\n",
    "import torch\n",
    "import matplotlib.pyplot as plt"
   ]
  },
  {
   "cell_type": "code",
   "execution_count": 2,
   "metadata": {},
   "outputs": [
    {
     "data": {
      "image/png": "[encoded data removed]",
      "text/plain": [
       "<Figure size 432x288 with 1 Axes>"
      ]
     },
     "metadata": {},
     "output_type": "display_data"
    }
   ],
   "source": [
    "from cag.benchmark.circle import allocate_observations\n",
    "\n",
    "# Allocate the true observations.\n",
    "true_radius = .3\n",
    "true_x = .5\n",
    "true_y = .5\n",
    "theta = [true_radius, true_x, true_y]\n",
    "theta_true, x_o = allocate_observations(theta, 128)\n",
    "\n",
    "# Show the mean observation.\n",
    "plt.imshow(x_o.mean(dim=0).numpy())\n",
    "plt.show()"
   ]
  },
  {
   "cell_type": "markdown",
   "metadata": {},
   "source": [
    "## AVO"
   ]
  },
  {
   "cell_type": "markdown",
   "metadata": {},
   "source": [
    "### Autoencoder"
   ]
  },
  {
   "cell_type": "code",
   "execution_count": 3,
   "metadata": {},
   "outputs": [],
   "source": [
    "class Autoencoder(torch.nn.Module):\n",
    "    \n",
    "    def __init__(self, simulator_resolution=64, z_dim=5):\n",
    "        super(Autoencoder, self).__init__()\n",
    "        self._simulator_resolution = simulator_resolution\n",
    "        self._z_dim = z_dim\n",
    "        self._encoder = torch.nn.Sequential(\n",
    "            torch.nn.Linear(simulator_resolution ** 2, 400),\n",
    "            torch.nn.PReLU(),\n",
    "            torch.nn.Linear(400, 200),\n",
    "            torch.nn.PReLU(),\n",
    "            torch.nn.Linear(200, 100),\n",
    "            torch.nn.PReLU(),\n",
    "            torch.nn.Linear(100, 50),\n",
    "            torch.nn.PReLU(),\n",
    "            torch.nn.Linear(50, z_dim)\n",
    "        )\n",
    "        self._decoder = torch.nn.Sequential(\n",
    "            torch.nn.Linear(z_dim, 50),\n",
    "            torch.nn.PReLU(),\n",
    "            torch.nn.Linear(50, 100),\n",
    "            torch.nn.PReLU(),\n",
    "            torch.nn.Linear(100, 200),\n",
    "            torch.nn.PReLU(),\n",
    "            torch.nn.Linear(200, 400),\n",
    "            torch.nn.PReLU(),\n",
    "            torch.nn.Linear(400, simulator_resolution ** 2),\n",
    "            torch.nn.Sigmoid()\n",
    "        )\n",
    "        \n",
    "    def encode(self, x):\n",
    "        x = x.view(-1, self._simulator_resolution ** 2)\n",
    "        z = self._encoder(x)\n",
    "        \n",
    "        return z\n",
    "        \n",
    "    def forward(self, x):\n",
    "        z = self.encode(x)\n",
    "        x_hat = self._decoder(z).view(-1, self._simulator_resolution, self._simulator_resolution)\n",
    "        \n",
    "        return x_hat, z\n",
    "    \n",
    "autoencoder = Autoencoder()"
   ]
  },
  {
   "cell_type": "markdown",
   "metadata": {},
   "source": [
    "### Discriminator"
   ]
  },
  {
   "cell_type": "code",
   "execution_count": 4,
   "metadata": {},
   "outputs": [],
   "source": [
    "class Discriminator(torch.nn.Module):\n",
    "    \n",
    "    def __init__(self, z_dim=5):\n",
    "        super(Discriminator, self).__init__()\n",
    "        self._z_dim = z_dim\n",
    "        num_hidden = 20\n",
    "        self._model = torch.nn.Sequential(\n",
    "            torch.nn.Linear(5, num_hidden),\n",
    "            torch.nn.PReLU(),\n",
    "            torch.nn.Linear(num_hidden, num_hidden),\n",
    "            torch.nn.PReLU(),\n",
    "            torch.nn.Linear(num_hidden, num_hidden),\n",
    "            torch.nn.PReLU(),\n",
    "            torch.nn.Linear(num_hidden, num_hidden),\n",
    "            torch.nn.PReLU(),\n",
    "            torch.nn.Linear(num_hidden, 1),\n",
    "            torch.nn.Sigmoid()\n",
    "        )\n",
    "        \n",
    "    def forward(self, x):\n",
    "        x = x.view(-1, self._z_dim)\n",
    "        y_hat = self._model(x)\n",
    "        \n",
    "        return y_hat\n",
    "    \n",
    "    \n",
    "discriminator = Discriminator()"
   ]
  },
  {
   "cell_type": "markdown",
   "metadata": {},
   "source": [
    "### Simulator"
   ]
  },
  {
   "cell_type": "code",
   "execution_count": 5,
   "metadata": {},
   "outputs": [],
   "source": [
    "from cag.benchmark.circle import CircleSimulator as Simulator\n",
    "\n",
    "simulator = Simulator()"
   ]
  },
  {
   "cell_type": "markdown",
   "metadata": {},
   "source": [
    "### Proposal"
   ]
  },
  {
   "cell_type": "code",
   "execution_count": 6,
   "metadata": {},
   "outputs": [],
   "source": [
    "from cag.proposal import MultivariateNormalProposal\n",
    "\n",
    "mean = torch.zeros(3)\n",
    "sigma = torch.eye(3)\n",
    "proposal = MultivariateNormalProposal(mean, sigma)"
   ]
  },
  {
   "cell_type": "markdown",
   "metadata": {},
   "source": [
    "### Inference"
   ]
  },
  {
   "cell_type": "code",
   "execution_count": null,
   "metadata": {},
   "outputs": [],
   "source": [
    "from cag.method import SingleObservationAdversarialVariationalOptimization as SAVO\n",
    "\n",
    "discriminator = Discriminator()\n",
    "avo = SAVO(simulator, autoencoder, discriminator, proposal)"
   ]
  },
  {
   "cell_type": "code",
   "execution_count": null,
   "metadata": {},
   "outputs": [
    {
     "name": "stdout",
     "output_type": "stream",
     "text": [
      "tensor([-0.0099,  0.0099, -0.0099], requires_grad=True)\n",
      "tensor([-0.0199,  0.0008,  0.0001], requires_grad=True)\n",
      "tensor([-0.0101, -0.0092,  0.0098], requires_grad=True)\n",
      "tensor([-0.0039, -0.0166,  0.0020], requires_grad=True)\n",
      "tensor([-0.0082, -0.0181, -0.0002], requires_grad=True)\n",
      "tensor([-0.0078, -0.0178, -0.0007], requires_grad=True)\n",
      "tensor([-0.0078, -0.0180, -0.0013], requires_grad=True)\n",
      "tensor([-0.0082, -0.0180, -0.0004], requires_grad=True)\n",
      "tensor([-0.0086, -0.0192, -0.0016], requires_grad=True)\n",
      "tensor([-0.0040, -0.0201, -0.0038], requires_grad=True)\n",
      "tensor([-0.0049, -0.0218, -0.0056], requires_grad=True)\n",
      "tensor([-0.0047, -0.0222, -0.0092], requires_grad=True)\n",
      "tensor([-0.0115, -0.0251, -0.0096], requires_grad=True)\n",
      "tensor([-0.0179, -0.0303, -0.0164], requires_grad=True)\n",
      "tensor([-0.0163, -0.0315, -0.0211], requires_grad=True)\n",
      "tensor([-0.0178, -0.0292, -0.0174], requires_grad=True)\n",
      "tensor([-0.0190, -0.0287, -0.0193], requires_grad=True)\n",
      "tensor([-0.0129, -0.0239, -0.0101], requires_grad=True)\n",
      "tensor([-0.0136, -0.0325, -0.0167], requires_grad=True)\n",
      "tensor([-0.0153, -0.0280, -0.0162], requires_grad=True)\n",
      "tensor([-0.0173, -0.0276, -0.0161], requires_grad=True)\n",
      "tensor([-0.0217, -0.0242, -0.0128], requires_grad=True)\n",
      "tensor([-0.0215, -0.0251, -0.0185], requires_grad=True)\n",
      "tensor([-0.0253, -0.0290, -0.0227], requires_grad=True)\n",
      "tensor([-0.0264, -0.0315, -0.0254], requires_grad=True)\n",
      "tensor([-0.0315, -0.0286, -0.0240], requires_grad=True)\n",
      "tensor([-0.0373, -0.0221, -0.0229], requires_grad=True)\n",
      "tensor([-0.0373, -0.0164, -0.0146], requires_grad=True)\n",
      "tensor([-0.0411, -0.0117, -0.0158], requires_grad=True)\n",
      "tensor([-0.0476, -0.0067, -0.0082], requires_grad=True)\n",
      "tensor([-0.0553, -0.0037, -0.0131], requires_grad=True)\n",
      "tensor([-0.0625,  0.0035, -0.0098], requires_grad=True)\n",
      "tensor([-0.0600,  0.0062, -0.0121], requires_grad=True)\n",
      "tensor([-0.0591,  0.0007, -0.0126], requires_grad=True)\n",
      "tensor([-0.0610,  0.0036, -0.0138], requires_grad=True)\n",
      "tensor([-0.0608,  0.0017, -0.0145], requires_grad=True)\n",
      "tensor([-0.0584,  0.0027, -0.0145], requires_grad=True)\n",
      "tensor([-0.0636,  0.0055, -0.0149], requires_grad=True)\n",
      "tensor([-0.0633,  0.0069, -0.0163], requires_grad=True)\n",
      "tensor([-0.0614,  0.0069, -0.0160], requires_grad=True)\n",
      "tensor([-0.0633,  0.0077, -0.0135], requires_grad=True)\n",
      "tensor([-0.0585,  0.0041, -0.0158], requires_grad=True)\n",
      "tensor([-0.0542,  0.0045, -0.0130], requires_grad=True)\n",
      "tensor([-0.0533,  0.0037, -0.0089], requires_grad=True)\n",
      "tensor([-0.0556,  0.0027, -0.0098], requires_grad=True)\n",
      "tensor([-0.0596,  0.0046, -0.0130], requires_grad=True)\n",
      "tensor([-0.0560,  0.0067, -0.0117], requires_grad=True)\n",
      "tensor([-0.0547,  0.0067, -0.0114], requires_grad=True)\n",
      "tensor([-0.0506,  0.0094, -0.0128], requires_grad=True)\n",
      "tensor([-0.0570,  0.0113, -0.0167], requires_grad=True)\n",
      "tensor([-0.0560,  0.0111, -0.0219], requires_grad=True)\n",
      "tensor([-0.0589,  0.0093, -0.0224], requires_grad=True)\n",
      "tensor([-0.0624,  0.0122, -0.0205], requires_grad=True)\n",
      "tensor([-0.0619,  0.0099, -0.0202], requires_grad=True)\n",
      "tensor([-0.0616,  0.0061, -0.0203], requires_grad=True)\n",
      "tensor([-0.0583,  0.0125, -0.0135], requires_grad=True)\n",
      "tensor([-0.0609,  0.0043, -0.0128], requires_grad=True)\n",
      "tensor([-0.0610,  0.0081, -0.0133], requires_grad=True)\n",
      "tensor([-0.0591,  0.0078, -0.0136], requires_grad=True)\n",
      "tensor([-0.0580,  0.0121, -0.0168], requires_grad=True)\n",
      "tensor([-0.0530,  0.0129, -0.0153], requires_grad=True)\n",
      "tensor([-0.0531,  0.0127, -0.0132], requires_grad=True)\n",
      "tensor([-0.0511,  0.0146, -0.0141], requires_grad=True)\n",
      "tensor([-0.0506,  0.0081, -0.0076], requires_grad=True)\n",
      "tensor([-0.0446,  0.0085, -0.0055], requires_grad=True)\n",
      "tensor([-0.0417,  0.0057, -0.0035], requires_grad=True)\n",
      "tensor([-0.0454,  0.0074, -0.0034], requires_grad=True)\n",
      "tensor([-0.0450,  0.0083, -0.0069], requires_grad=True)\n",
      "tensor([-0.0434,  0.0062, -0.0019], requires_grad=True)\n",
      "tensor([-0.0460,  0.0046, -0.0052], requires_grad=True)\n",
      "tensor([-0.0494,  0.0060, -0.0059], requires_grad=True)\n",
      "tensor([-0.0425,  0.0053, -0.0001], requires_grad=True)\n",
      "tensor([-0.0391,  0.0071,  0.0016], requires_grad=True)\n",
      "tensor([-0.0386,  0.0061,  0.0014], requires_grad=True)\n",
      "tensor([-0.0440,  0.0026, -0.0017], requires_grad=True)\n",
      "tensor([-0.0398, -0.0019, -0.0062], requires_grad=True)\n",
      "tensor([-0.0417, -0.0053, -0.0022], requires_grad=True)\n",
      "tensor([-0.0441, -0.0034, -0.0023], requires_grad=True)\n",
      "tensor([-0.0416, -0.0053, -0.0053], requires_grad=True)\n",
      "tensor([-0.0425, -0.0053, -0.0093], requires_grad=True)\n",
      "tensor([-0.0395, -0.0042, -0.0091], requires_grad=True)\n",
      "tensor([-0.0420, -0.0036, -0.0076], requires_grad=True)\n",
      "tensor([-0.0422, -0.0018, -0.0049], requires_grad=True)\n",
      "tensor([-0.0409, -0.0058, -0.0052], requires_grad=True)\n",
      "tensor([-0.0405, -0.0087, -0.0055], requires_grad=True)\n",
      "tensor([-0.0392, -0.0119, -0.0016], requires_grad=True)\n",
      "tensor([-0.0385, -0.0089, -0.0005], requires_grad=True)\n",
      "tensor([-0.0408, -0.0077, -0.0008], requires_grad=True)\n",
      "tensor([-0.0436, -0.0084, -0.0004], requires_grad=True)\n",
      "tensor([-0.0415, -0.0086, -0.0010], requires_grad=True)\n",
      "tensor([-0.0398, -0.0116, -0.0018], requires_grad=True)\n",
      "tensor([-0.0406, -0.0126, -0.0058], requires_grad=True)\n",
      "tensor([-0.0402, -0.0140, -0.0077], requires_grad=True)\n",
      "tensor([-0.0373, -0.0176, -0.0077], requires_grad=True)\n",
      "tensor([-0.0389, -0.0180, -0.0066], requires_grad=True)\n",
      "tensor([-0.0360, -0.0193, -0.0049], requires_grad=True)\n",
      "tensor([-0.0376, -0.0181, -0.0073], requires_grad=True)\n",
      "tensor([-0.0399, -0.0195, -0.0023], requires_grad=True)\n",
      "tensor([-0.0407, -0.0182, -0.0014], requires_grad=True)\n",
      "tensor([-0.0413, -0.0170, -0.0013], requires_grad=True)\n",
      "tensor([-0.0422, -0.0160,  0.0015], requires_grad=True)\n",
      "tensor([-0.0413, -0.0143,  0.0011], requires_grad=True)\n",
      "tensor([-0.0372, -0.0122,  0.0023], requires_grad=True)\n",
      "tensor([-0.0368, -0.0126,  0.0014], requires_grad=True)\n",
      "tensor([-0.0403, -0.0158,  0.0011], requires_grad=True)\n",
      "tensor([-0.0406, -0.0138,  0.0009], requires_grad=True)\n",
      "tensor([-0.0389, -0.0121,  0.0021], requires_grad=True)\n",
      "tensor([-0.0376, -0.0129,  0.0015], requires_grad=True)\n",
      "tensor([-0.0343, -0.0146,  0.0036], requires_grad=True)\n",
      "tensor([-0.0360, -0.0144,  0.0034], requires_grad=True)\n",
      "tensor([-0.0353, -0.0143,  0.0045], requires_grad=True)\n",
      "tensor([-0.0354, -0.0121,  0.0056], requires_grad=True)\n",
      "tensor([-0.0355, -0.0122,  0.0056], requires_grad=True)\n",
      "tensor([-0.0375, -0.0116,  0.0061], requires_grad=True)\n",
      "tensor([-0.0384, -0.0123,  0.0049], requires_grad=True)\n",
      "tensor([-0.0375, -0.0123,  0.0070], requires_grad=True)\n",
      "tensor([-0.0378, -0.0112,  0.0075], requires_grad=True)\n",
      "tensor([-0.0366, -0.0112,  0.0055], requires_grad=True)\n",
      "tensor([-0.0370, -0.0112,  0.0061], requires_grad=True)\n",
      "tensor([-0.0364, -0.0103,  0.0043], requires_grad=True)\n",
      "tensor([-0.0358, -0.0095,  0.0044], requires_grad=True)\n",
      "tensor([-0.0369, -0.0099,  0.0042], requires_grad=True)\n",
      "tensor([-0.0360, -0.0095,  0.0020], requires_grad=True)\n",
      "tensor([-0.0352, -0.0079,  0.0025], requires_grad=True)\n",
      "tensor([-0.0353, -0.0089,  0.0013], requires_grad=True)\n",
      "tensor([-0.0366, -0.0081,  0.0006], requires_grad=True)\n",
      "tensor([-0.0377, -0.0075,  0.0006], requires_grad=True)\n",
      "tensor([-0.0382, -0.0082,  0.0026], requires_grad=True)\n",
      "tensor([-0.0390, -0.0074,  0.0033], requires_grad=True)\n",
      "tensor([-0.0381, -0.0078,  0.0042], requires_grad=True)\n",
      "tensor([-0.0381, -0.0078,  0.0046], requires_grad=True)\n",
      "tensor([-0.0396, -0.0083,  0.0043], requires_grad=True)\n",
      "tensor([-0.0391, -0.0092,  0.0047], requires_grad=True)\n",
      "tensor([-0.0392, -0.0097,  0.0044], requires_grad=True)\n",
      "tensor([-0.0384, -0.0100,  0.0037], requires_grad=True)\n",
      "tensor([-0.0390, -0.0103,  0.0033], requires_grad=True)\n",
      "tensor([-0.0394, -0.0104,  0.0039], requires_grad=True)\n",
      "tensor([-0.0388, -0.0109,  0.0038], requires_grad=True)\n",
      "tensor([-0.0388, -0.0090,  0.0035], requires_grad=True)\n",
      "tensor([-0.0380, -0.0088,  0.0029], requires_grad=True)\n",
      "tensor([-0.0339, -0.0079,  0.0027], requires_grad=True)\n",
      "tensor([-0.0323, -0.0045,  0.0001], requires_grad=True)\n",
      "tensor([-0.0321, -0.0099, -0.0046], requires_grad=True)\n",
      "tensor([-0.0313, -0.0080, -0.0071], requires_grad=True)\n",
      "tensor([-0.0271, -0.0080, -0.0093], requires_grad=True)\n",
      "tensor([-0.0245, -0.0111, -0.0093], requires_grad=True)\n",
      "tensor([-0.0221, -0.0098, -0.0094], requires_grad=True)\n",
      "tensor([-0.0224, -0.0103, -0.0045], requires_grad=True)\n",
      "tensor([-0.0201, -0.0083, -0.0069], requires_grad=True)\n"
     ]
    },
    {
     "name": "stdout",
     "output_type": "stream",
     "text": [
      "tensor([nan, nan, nan], requires_grad=True)\n",
      "tensor([nan, nan, nan], requires_grad=True)\n",
      "tensor([nan, nan, nan], requires_grad=True)\n",
      "tensor([nan, nan, nan], requires_grad=True)\n",
      "tensor([nan, nan, nan], requires_grad=True)\n",
      "tensor([nan, nan, nan], requires_grad=True)\n",
      "tensor([nan, nan, nan], requires_grad=True)\n",
      "tensor([nan, nan, nan], requires_grad=True)\n",
      "tensor([nan, nan, nan], requires_grad=True)\n",
      "tensor([nan, nan, nan], requires_grad=True)\n",
      "tensor([nan, nan, nan], requires_grad=True)\n",
      "tensor([nan, nan, nan], requires_grad=True)\n",
      "tensor([nan, nan, nan], requires_grad=True)\n",
      "tensor([nan, nan, nan], requires_grad=True)\n",
      "tensor([nan, nan, nan], requires_grad=True)\n",
      "tensor([nan, nan, nan], requires_grad=True)\n",
      "tensor([nan, nan, nan], requires_grad=True)\n",
      "tensor([nan, nan, nan], requires_grad=True)\n",
      "tensor([nan, nan, nan], requires_grad=True)\n",
      "tensor([nan, nan, nan], requires_grad=True)\n",
      "tensor([nan, nan, nan], requires_grad=True)\n",
      "tensor([nan, nan, nan], requires_grad=True)\n",
      "tensor([nan, nan, nan], requires_grad=True)\n",
      "tensor([nan, nan, nan], requires_grad=True)\n",
      "tensor([nan, nan, nan], requires_grad=True)\n",
      "tensor([nan, nan, nan], requires_grad=True)\n",
      "tensor([nan, nan, nan], requires_grad=True)\n",
      "tensor([nan, nan, nan], requires_grad=True)\n",
      "tensor([nan, nan, nan], requires_grad=True)\n",
      "tensor([nan, nan, nan], requires_grad=True)\n",
      "tensor([nan, nan, nan], requires_grad=True)\n",
      "tensor([nan, nan, nan], requires_grad=True)\n",
      "tensor([nan, nan, nan], requires_grad=True)\n"
     ]
    }
   ],
   "source": [
    "proposal = avo.infer(x_o, num_steps=5000)\n",
    "\n",
    "print(proposal._mu)"
   ]
  },
  {
   "cell_type": "code",
   "execution_count": null,
   "metadata": {},
   "outputs": [],
   "source": [
    "print(proposal._mu)"
   ]
  },
  {
   "cell_type": "code",
   "execution_count": null,
   "metadata": {},
   "outputs": [],
   "source": []
  }
 ],
 "metadata": {
  "kernelspec": {
   "display_name": "Python 3",
   "language": "python",
   "name": "python3"
  },
  "language_info": {
   "codemirror_mode": {
    "name": "ipython",
    "version": 3
   },
   "file_extension": ".py",
   "mimetype": "text/x-python",
   "name": "python",
   "nbconvert_exporter": "python",
   "pygments_lexer": "ipython3",
   "version": "3.6.4"
  }
 },
 "nbformat": 4,
 "nbformat_minor": 2
}
