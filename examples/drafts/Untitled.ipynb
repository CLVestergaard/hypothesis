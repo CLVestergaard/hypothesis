{
 "cells": [
  {
   "cell_type": "code",
   "execution_count": 1,
   "metadata": {
    "collapsed": true
   },
   "outputs": [],
   "source": [
    "\n",
    "import torch\n",
    "import numpy as np\n",
    "import matplotlib.pyplot as plt\n",
    "from hypothesis.distribution import MixtureOfNormals\n",
    "from torch.distributions.normal import Normal"
   ]
  },
  {
   "cell_type": "code",
   "execution_count": 27,
   "metadata": {
    "collapsed": true
   },
   "outputs": [],
   "source": [
    "c0 = Normal(torch.tensor([-200.0]), torch.tensor([100.0]))\n",
    "c1 = Normal(torch.tensor([0.0]), torch.tensor([100.0]))\n",
    "c2 = Normal(torch.tensor([200.0]), torch.tensor([100.0]))\n",
    "dist = MixtureOfNormals([c0, c1, c2], [0.2, 0.4, 0.2])"
   ]
  },
  {
   "cell_type": "code",
   "execution_count": 28,
   "metadata": {
    "collapsed": true
   },
   "outputs": [],
   "source": [
    "min_x = np.amin(-1000)\n",
    "max_x = np.amax(1000)\n",
    "x_range = np.linspace(float(min_x), float(max_x), 30000)"
   ]
  },
  {
   "cell_type": "code",
   "execution_count": 29,
   "metadata": {
    "collapsed": true
   },
   "outputs": [],
   "source": [
    "n_samples = 1000000"
   ]
  },
  {
   "cell_type": "code",
   "execution_count": 30,
   "metadata": {
    "collapsed": true
   },
   "outputs": [],
   "source": [
    "samples = []\n",
    "for i in range(n_samples):\n",
    "    samples.append(dist.sample().item())"
   ]
  },
  {
   "cell_type": "code",
   "execution_count": 31,
   "metadata": {
    "collapsed": true
   },
   "outputs": [],
   "source": [
    "def log_likelihood(x):\n",
    "    c0 = Normal(torch.tensor([-200.0]), torch.tensor([100.0]))\n",
    "    c1 = Normal(torch.tensor([0.0]), torch.tensor([100.0]))\n",
    "    c2 = Normal(torch.tensor([200.0]), torch.tensor([100.0]))\n",
    "    dist = MixtureOfNormals([c0, c1, c2], [0.2, 0.4, 0.2])\n",
    "    likelihood = dist.log_prob(x)\n",
    "\n",
    "    return likelihood"
   ]
  },
  {
   "cell_type": "code",
   "execution_count": 32,
   "metadata": {},
   "outputs": [
    {
     "data": {
      "image/png": "[encoded data removed]",
      "text/plain": [
       "<Figure size 432x288 with 1 Axes>"
      ]
     },
     "metadata": {},
     "output_type": "display_data"
    }
   ],
   "source": [
    "plt.plot(x_range, log_likelihood(torch.from_numpy(x_range).float()).exp().numpy(), lw=2, c='black', label='Target')\n",
    "plt.hist(samples, bins=50, density=True, color='orange', label='Samples')\n",
    "plt.legend()\n",
    "plt.show()"
   ]
  },
  {
   "cell_type": "code",
   "execution_count": 34,
   "metadata": {},
   "outputs": [
    {
     "data": {
      "image/png": "[encoded data removed]",
      "text/plain": [
       "<Figure size 432x288 with 1 Axes>"
      ]
     },
     "metadata": {},
     "output_type": "display_data"
    }
   ],
   "source": [
    "c3 = Normal(0,2)\n",
    "c4 = Normal(-2,-2)\n",
    "\n",
    "min_x2 = np.amin(-10)\n",
    "max_x2 = np.amax(7.5)\n",
    "x_range2 = np.linspace(float(min_x2), float(max_x2), 30000)\n",
    "\n",
    "#plt.plot(x_range2, c3.log_prob(torch.from_numpy(x_range2).float()).exp().numpy(), lw=2, c='black', label='mu 0; stdev 2')\n",
    "plt.plot(x_range2, c4.log_prob(torch.from_numpy(x_range2).float()).exp().numpy(), lw=2, c='black', label='mu -2; stdev -2')\n",
    "plt.legend()\n",
    "plt.show()"
   ]
  },
  {
   "cell_type": "code",
   "execution_count": 63,
   "metadata": {},
   "outputs": [],
   "source": [
    "l = [-10,5,3,11,2,0,3]\n",
    "t = torch.FloatTensor(l) \n",
    "t = t.view(-1, 1)\n",
    "out = c4.log_prob(t).sum()"
   ]
  },
  {
   "cell_type": "code",
   "execution_count": 64,
   "metadata": {},
   "outputs": [
    {
     "data": {
      "text/plain": [
       "tensor(nan)"
      ]
     },
     "execution_count": 64,
     "metadata": {},
     "output_type": "execute_result"
    }
   ],
   "source": [
    "out"
   ]
  },
  {
   "cell_type": "code",
   "execution_count": 65,
   "metadata": {},
   "outputs": [
    {
     "data": {
      "text/plain": [
       "1"
      ]
     },
     "execution_count": 65,
     "metadata": {},
     "output_type": "execute_result"
    }
   ],
   "source": [
    "min(1, out.item())"
   ]
  },
  {
   "cell_type": "code",
   "execution_count": 66,
   "metadata": {},
   "outputs": [
    {
     "data": {
      "text/plain": [
       "tensor([0.])"
      ]
     },
     "execution_count": 66,
     "metadata": {},
     "output_type": "execute_result"
    }
   ],
   "source": [
    "if torch.isnan(out.sum()):\n",
    "    out = torch.FloatTensor([0])\n",
    "out"
   ]
  },
  {
   "cell_type": "code",
   "execution_count": null,
   "metadata": {},
   "outputs": [],
   "source": []
  }
 ],
 "metadata": {
  "kernelspec": {
   "display_name": "Python 3",
   "language": "python",
   "name": "python3"
  },
  "language_info": {
   "codemirror_mode": {
    "name": "ipython",
    "version": 3
   },
   "file_extension": ".py",
   "mimetype": "text/x-python",
   "name": "python",
   "nbconvert_exporter": "python",
   "pygments_lexer": "ipython3",
   "version": "3.6.3"
  }
 },
 "nbformat": 4,
 "nbformat_minor": 2
}
