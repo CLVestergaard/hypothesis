{
 "cells": [
  {
   "cell_type": "markdown",
   "metadata": {},
   "source": [
    "# MCMC"
   ]
  },
  {
   "cell_type": "code",
   "execution_count": null,
   "metadata": {},
   "outputs": [],
   "source": [
    "import hypothesis\n",
    "import numpy as np\n",
    "import torch\n",
    "import matplotlib.pyplot as plt"
   ]
  },
  {
   "cell_type": "markdown",
   "metadata": {},
   "source": [
    "## Observations"
   ]
  },
  {
   "cell_type": "code",
   "execution_count": null,
   "metadata": {},
   "outputs": [],
   "source": [
    "num_observations = 100\n",
    "theta_true = 1.\n",
    "\n",
    "N = torch.distributions.normal.Normal(theta_true, 1.)\n",
    "observations = N.sample(torch.Size([num_observations])).view(-1)\n",
    "\n",
    "plt.hist(observations.numpy(), bins=50, density=True)\n",
    "plt.show()"
   ]
  },
  {
   "cell_type": "markdown",
   "metadata": {},
   "source": [
    "## Metropolis-Hastings"
   ]
  },
  {
   "cell_type": "code",
   "execution_count": null,
   "metadata": {},
   "outputs": [],
   "source": [
    "from hypothesis.inference.mcmc import MetropolisHastings as MH\n",
    "from hypothesis.transition import Normal as NormalTransition\n",
    "\n",
    "def log_likelihood(observations, theta):\n",
    "    with torch.no_grad():\n",
    "        N = torch.distributions.normal.Normal(theta.item(), 1.)\n",
    "        likelihood = N.log_prob(observations).sum()\n",
    "        \n",
    "    return likelihood\n",
    "\n",
    "transition = NormalTransition(1.)\n",
    "sampler = MH(log_likelihood, transition)"
   ]
  },
  {
   "cell_type": "code",
   "execution_count": null,
   "metadata": {},
   "outputs": [],
   "source": [
    "theta_0 = torch.tensor(5, dtype=torch.float32)\n",
    "_, chain = sampler.infer(observations, theta_0=theta_0, samples=50000, burnin_samples=10000)"
   ]
  },
  {
   "cell_type": "code",
   "execution_count": null,
   "metadata": {},
   "outputs": [],
   "source": [
    "samples = chain.get()\n",
    "\n",
    "plt.hist(samples.numpy(), density=True, bins=50)\n",
    "plt.axvline(theta_true, lw=2, color=\"red\")\n",
    "plt.show()"
   ]
  }
 ],
 "metadata": {
  "kernelspec": {
   "display_name": "Python 3",
   "language": "python",
   "name": "python3"
  },
  "language_info": {
   "codemirror_mode": {
    "name": "ipython",
    "version": 3
   },
   "file_extension": ".py",
   "mimetype": "text/x-python",
   "name": "python",
   "nbconvert_exporter": "python",
   "pygments_lexer": "ipython3",
   "version": "3.6.8"
  }
 },
 "nbformat": 4,
 "nbformat_minor": 2
}
