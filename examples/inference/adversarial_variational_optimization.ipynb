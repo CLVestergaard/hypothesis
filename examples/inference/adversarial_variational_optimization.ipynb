{
 "cells": [
  {
   "cell_type": "markdown",
   "metadata": {},
   "source": [
    "# Adversarial Variational Optimization"
   ]
  },
  {
   "cell_type": "code",
   "execution_count": 1,
   "metadata": {},
   "outputs": [],
   "source": [
    "import torch\n",
    "import numpy as np\n",
    "import matplotlib.pyplot as plt"
   ]
  },
  {
   "cell_type": "markdown",
   "metadata": {},
   "source": [
    "## Discriminator"
   ]
  },
  {
   "cell_type": "code",
   "execution_count": 2,
   "metadata": {},
   "outputs": [],
   "source": [
    "num_hidden = 100\n",
    "discriminator = torch.nn.Sequential(\n",
    "    torch.nn.Linear(1, num_hidden),\n",
    "    torch.nn.SELU(),\n",
    "    torch.nn.Linear(num_hidden, num_hidden),\n",
    "    torch.nn.SELU(),\n",
    "    torch.nn.Linear(num_hidden, num_hidden),\n",
    "    torch.nn.SELU(),\n",
    "    torch.nn.Linear(num_hidden, num_hidden),\n",
    "    torch.nn.SELU(),\n",
    "    torch.nn.Linear(num_hidden, 1),\n",
    "    torch.nn.Sigmoid())"
   ]
  },
  {
   "cell_type": "markdown",
   "metadata": {},
   "source": [
    "## Simulator"
   ]
  },
  {
   "cell_type": "code",
   "execution_count": 3,
   "metadata": {},
   "outputs": [],
   "source": [
    "from torch.distributions.poisson import Poisson\n",
    "\n",
    "def simulator(inputs):\n",
    "    poisson = Poisson(inputs)\n",
    "    return poisson.sample()"
   ]
  },
  {
   "cell_type": "markdown",
   "metadata": {},
   "source": [
    "## Observations"
   ]
  },
  {
   "cell_type": "code",
   "execution_count": 4,
   "metadata": {},
   "outputs": [
    {
     "data": {
      "image/png": "[encoded data removed]",
      "text/plain": [
       "<Figure size 432x288 with 1 Axes>"
      ]
     },
     "metadata": {},
     "output_type": "display_data"
    }
   ],
   "source": [
    "truth = torch.tensor(1.95).repeat(10000)\n",
    "observations = simulator(truth)\n",
    "\n",
    "plt.hist(observations.numpy(), bins=25, density=True)\n",
    "plt.show()"
   ]
  },
  {
   "cell_type": "markdown",
   "metadata": {},
   "source": [
    "## Proposal"
   ]
  },
  {
   "cell_type": "code",
   "execution_count": 5,
   "metadata": {},
   "outputs": [
    {
     "data": {
      "text/plain": [
       "tensor(0., requires_grad=True)"
      ]
     },
     "execution_count": 5,
     "metadata": {},
     "output_type": "execute_result"
    }
   ],
   "source": [
    "from hypothesis.proposal import Normal as Proposal\n",
    "\n",
    "proposal = Proposal(sigma=.1)\n",
    "\n",
    "proposal.mu"
   ]
  },
  {
   "cell_type": "markdown",
   "metadata": {},
   "source": [
    "## Inference procedure"
   ]
  },
  {
   "cell_type": "code",
   "execution_count": 6,
   "metadata": {},
   "outputs": [],
   "source": [
    "from hypothesis.inference.avo import AdversarialVariationalOptimizationPlus as AVO\n",
    "\n",
    "avo = AVO(simulator, discriminator)\n",
    "proposal = avo.infer(observations, proposal=proposal, steps=50000, lr_proposal=0.001)"
   ]
  },
  {
   "cell_type": "code",
   "execution_count": 7,
   "metadata": {},
   "outputs": [
    {
     "data": {
      "text/plain": [
       "tensor(1.9920, requires_grad=True)"
      ]
     },
     "execution_count": 7,
     "metadata": {},
     "output_type": "execute_result"
    }
   ],
   "source": [
    "proposal.mu"
   ]
  }
 ],
 "metadata": {
  "kernelspec": {
   "display_name": "Python 3",
   "language": "python",
   "name": "python3"
  },
  "language_info": {
   "codemirror_mode": {
    "name": "ipython",
    "version": 3
   },
   "file_extension": ".py",
   "mimetype": "text/x-python",
   "name": "python",
   "nbconvert_exporter": "python",
   "pygments_lexer": "ipython3",
   "version": "3.6.8"
  }
 },
 "nbformat": 4,
 "nbformat_minor": 2
}
