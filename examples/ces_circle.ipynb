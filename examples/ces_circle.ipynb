{
 "cells": [
  {
   "cell_type": "markdown",
   "metadata": {},
   "source": [
    "# Classifier Elastic Strategy"
   ]
  },
  {
   "cell_type": "code",
   "execution_count": 1,
   "metadata": {},
   "outputs": [],
   "source": [
    "import numpy as np\n",
    "import torch\n",
    "\n",
    "import matplotlib.pyplot as plt"
   ]
  },
  {
   "cell_type": "code",
   "execution_count": 2,
   "metadata": {},
   "outputs": [
    {
     "data": {
      "image/png": "[encoded data removed]",
      "text/plain": [
       "<Figure size 432x288 with 1 Axes>"
      ]
     },
     "metadata": {},
     "output_type": "display_data"
    }
   ],
   "source": [
    "from cag.benchmark.circle import allocate_observations\n",
    "\n",
    "theta_true, x_o = allocate_observations([.3, .5, .5], 32)\n",
    "\n",
    "plt.imshow(x_o.squeeze().mean(dim=0).numpy())\n",
    "plt.show()"
   ]
  },
  {
   "cell_type": "code",
   "execution_count": 3,
   "metadata": {},
   "outputs": [],
   "source": [
    "class Classifier(torch.nn.Module):\n",
    "    \n",
    "    def __init__(self):\n",
    "        super(Classifier, self).__init__()\n",
    "        self._observation_dim = 64\n",
    "        self._model = torch.nn.Sequential(\n",
    "            torch.nn.Linear(self._observation_dim ** 2, 600),\n",
    "            torch.nn.PReLU(),\n",
    "            torch.nn.Linear(600, 300),\n",
    "            torch.nn.PReLU(),\n",
    "            torch.nn.Linear(300, 300),\n",
    "            torch.nn.PReLU(),\n",
    "            torch.nn.Linear(300, 1),\n",
    "            torch.nn.Sigmoid()\n",
    "        )\n",
    "        \n",
    "    def forward(self, x):\n",
    "        x = x.view(-1, self._observation_dim ** 2)\n",
    "        return self._model(x)\n",
    "    \n",
    "classifier = Classifier()"
   ]
  },
  {
   "cell_type": "code",
   "execution_count": 4,
   "metadata": {},
   "outputs": [],
   "source": [
    "min = torch.tensor([-1, -1, -1]).float()\n",
    "max = torch.tensor([1, 1, 1]).float()\n",
    "initializer = torch.distributions.uniform.Uniform(min, max)"
   ]
  },
  {
   "cell_type": "code",
   "execution_count": 5,
   "metadata": {},
   "outputs": [],
   "source": [
    "from cag.benchmark.circle import CircleSimulator as Simulator\n",
    "from cag.inference import ClassifierEvolutionaryStrategy\n",
    "\n",
    "simulator = Simulator()\n",
    "ces = ClassifierEvolutionaryStrategy(simulator, classifier)"
   ]
  },
  {
   "cell_type": "code",
   "execution_count": 6,
   "metadata": {},
   "outputs": [],
   "source": [
    "mean, std = ces.infer(x_o, initializer, num_steps=250)"
   ]
  },
  {
   "cell_type": "code",
   "execution_count": 7,
   "metadata": {},
   "outputs": [
    {
     "name": "stdout",
     "output_type": "stream",
     "text": [
      "tensor([0.2925, 0.5109, 0.5021])\n",
      "tensor([0.0384, 0.0309, 0.0261])\n"
     ]
    }
   ],
   "source": [
    "print(mean)\n",
    "print(std)"
   ]
  },
  {
   "cell_type": "code",
   "execution_count": 8,
   "metadata": {},
   "outputs": [
    {
     "data": {
      "image/png": "[encoded data removed]",
      "text/plain": [
       "<Figure size 432x288 with 1 Axes>"
      ]
     },
     "metadata": {},
     "output_type": "display_data"
    },
    {
     "data": {
      "image/png": "[encoded data removed]",
      "text/plain": [
       "<Figure size 432x288 with 1 Axes>"
      ]
     },
     "metadata": {},
     "output_type": "display_data"
    }
   ],
   "source": [
    "from cag.benchmark.circle import allocate_observations\n",
    "\n",
    "theta_true, x_inferred = allocate_observations(mean, 1)\n",
    "\n",
    "plt.imshow(x_o.squeeze().mean(dim=0).numpy())\n",
    "plt.show()\n",
    "plt.imshow(x_inferred.squeeze().numpy())\n",
    "plt.show()"
   ]
  }
 ],
 "metadata": {
  "kernelspec": {
   "display_name": "Python 3",
   "language": "python",
   "name": "python3"
  },
  "language_info": {
   "codemirror_mode": {
    "name": "ipython",
    "version": 3
   },
   "file_extension": ".py",
   "mimetype": "text/x-python",
   "name": "python",
   "nbconvert_exporter": "python",
   "pygments_lexer": "ipython3",
   "version": "3.6.4"
  }
 },
 "nbformat": 4,
 "nbformat_minor": 2
}
