{
 "cells": [
  {
   "cell_type": "markdown",
   "metadata": {},
   "source": [
    "# Likelihood-free posterior sampling"
   ]
  },
  {
   "cell_type": "code",
   "execution_count": 1,
   "metadata": {},
   "outputs": [],
   "source": [
    "import numpy as np\n",
    "import torch\n",
    "import matplotlib.pyplot as plt\n",
    "\n",
    "from cag.inference import LikelihoodFreeMetropolisHastings as MCMC"
   ]
  },
  {
   "cell_type": "code",
   "execution_count": 2,
   "metadata": {},
   "outputs": [
    {
     "data": {
      "image/png": "[encoded data removed]",
      "text/plain": [
       "<Figure size 432x288 with 1 Axes>"
      ]
     },
     "metadata": {},
     "output_type": "display_data"
    }
   ],
   "source": [
    "from cag.benchmark.poisson import allocate_observations\n",
    "\n",
    "# SAmple the (true) observations.\n",
    "theta_true, x_o = allocate_observations(2.)\n",
    "hist, bins = np.histogram(x_o.numpy(), bins=20, density=True)\n",
    "width = 1. * (bins[1] - bins[0])\n",
    "center = (bins[:-1] + bins[1:]) / 2\n",
    "plt.bar(center, hist, width=width, align=\"center\")\n",
    "plt.show()"
   ]
  },
  {
   "cell_type": "code",
   "execution_count": 3,
   "metadata": {},
   "outputs": [],
   "source": [
    "hidden_layers = 6\n",
    "hidden_units = 100\n",
    "\n",
    "modules = []\n",
    "modules.append(torch.nn.Linear(1, hidden_units))\n",
    "modules.append(torch.nn.PReLU())\n",
    "for layer_index in range(hidden_layers):\n",
    "    modules.append(torch.nn.Linear(hidden_units, hidden_units))\n",
    "    modules.append(torch.nn.PReLU())\n",
    "modules.append(torch.nn.Linear(hidden_units, 1))\n",
    "modules.append(torch.nn.Sigmoid())\n",
    "\n",
    "classifier = torch.nn.Sequential(*modules)"
   ]
  },
  {
   "cell_type": "code",
   "execution_count": null,
   "metadata": {},
   "outputs": [],
   "source": [
    "from cag.benchmark.poisson import PoissonSimulator as Simulator\n",
    "from cag.transition import NormalTransitionDistribution\n",
    "from cag.transition import UniformTransitionDistribution\n",
    "\n",
    "simulator = Simulator()\n",
    "#transition = NormalTransitionDistribution()\n",
    "transition = UniformTransitionDistribution(0, 5)\n",
    "mcmc = MCMC(simulator, transition, classifier)"
   ]
  },
  {
   "cell_type": "code",
   "execution_count": null,
   "metadata": {
    "scrolled": true
   },
   "outputs": [
    {
     "name": "stdout",
     "output_type": "stream",
     "text": [
      "============\n",
      "From 1.7881367206573486\n",
      "To 2.0662190914154053\n",
      "2.1018831729888916\n"
     ]
    }
   ],
   "source": [
    "initializer = torch.distributions.uniform.Uniform(0, 5)\n",
    "\n",
    "num_samples = 10\n",
    "samples = mcmc.infer(x_o, initializer, num_samples)"
   ]
  },
  {
   "cell_type": "code",
   "execution_count": null,
   "metadata": {},
   "outputs": [],
   "source": [
    "plt.hist(samples.squeeze().numpy(), bins=20)\n",
    "plt.show()"
   ]
  }
 ],
 "metadata": {
  "kernelspec": {
   "display_name": "Python 3",
   "language": "python",
   "name": "python3"
  },
  "language_info": {
   "codemirror_mode": {
    "name": "ipython",
    "version": 3
   },
   "file_extension": ".py",
   "mimetype": "text/x-python",
   "name": "python",
   "nbconvert_exporter": "python",
   "pygments_lexer": "ipython3",
   "version": "3.6.4"
  }
 },
 "nbformat": 4,
 "nbformat_minor": 2
}
