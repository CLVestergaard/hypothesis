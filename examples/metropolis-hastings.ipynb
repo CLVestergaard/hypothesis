{
 "cells": [
  {
   "cell_type": "markdown",
   "metadata": {},
   "source": [
    "# Metropolis Hastings"
   ]
  },
  {
   "cell_type": "code",
   "execution_count": 1,
   "metadata": {
    "collapsed": true
   },
   "outputs": [],
   "source": [
    "import numpy as np\n",
    "import torch\n",
    "import matplotlib.pyplot as plt\n",
    "import matplotlib.mlab as mlab"
   ]
  },
  {
   "cell_type": "markdown",
   "metadata": {},
   "source": [
    "## Observations"
   ]
  },
  {
   "cell_type": "code",
   "execution_count": 2,
   "metadata": {},
   "outputs": [
    {
     "data": {
      "image/png": "[encoded data removed]",
      "text/plain": [
       "<Figure size 432x288 with 1 Axes>"
      ]
     },
     "metadata": {},
     "output_type": "display_data"
    }
   ],
   "source": [
    "num_observations = 250\n",
    "theta_true = 1.\n",
    "\n",
    "\n",
    "N = torch.distributions.normal.Normal(theta_true, 1.)\n",
    "observations = N.sample(torch.Size([num_observations])).view(-1).numpy()\n",
    "\n",
    "plt.hist(observations, bins=25, density=True)\n",
    "plt.show()"
   ]
  },
  {
   "cell_type": "markdown",
   "metadata": {},
   "source": [
    "## Posterior inference with Metropolis-Hastings"
   ]
  },
  {
   "cell_type": "code",
   "execution_count": 3,
   "metadata": {
    "collapsed": true
   },
   "outputs": [],
   "source": [
    "def log_likelihood(theta, observations):\n",
    "    with torch.no_grad():\n",
    "        N = torch.distributions.normal.Normal(theta.item(), 1.)\n",
    "        likelihood = N.log_prob(observations).sum()\n",
    "        \n",
    "    return likelihood"
   ]
  },
  {
   "cell_type": "code",
   "execution_count": 4,
   "metadata": {
    "collapsed": true
   },
   "outputs": [],
   "source": [
    "from hypothesis.transition import UniformTransitionDistribution\n",
    "\n",
    "min = torch.tensor(-5)\n",
    "max = torch.tensor(8)\n",
    "transition = UniformTransitionDistribution(min, max)"
   ]
  },
  {
   "cell_type": "code",
   "execution_count": 5,
   "metadata": {
    "collapsed": true
   },
   "outputs": [],
   "source": [
    "from hypothesis.inference import MetropolisHastings\n",
    "\n",
    "sampler = MetropolisHastings(log_likelihood, transition)"
   ]
  },
  {
   "cell_type": "code",
   "execution_count": 6,
   "metadata": {
    "collapsed": true
   },
   "outputs": [],
   "source": [
    "theta_0 = torch.tensor(5).float()\n",
    "result = sampler.infer(\n",
    "    observations,\n",
    "    theta_0=theta_0,\n",
    "    samples=100000,\n",
    "    burnin_steps=100)"
   ]
  },
  {
   "cell_type": "code",
   "execution_count": 7,
   "metadata": {
    "collapsed": true
   },
   "outputs": [],
   "source": [
    "from hypothesis.visualization.mcmc import traceplot\n",
    "from hypothesis.visualization.mcmc import autocorrelation"
   ]
  },
  {
   "cell_type": "code",
   "execution_count": 8,
   "metadata": {
    "collapsed": true
   },
   "outputs": [],
   "source": [
    "def traceplot(result, **kwargs):\n",
    "    # Argument key definitions.\n",
    "    KEY_SHOW_BURNIN = \"show_burnin\"\n",
    "    KEY_TRUTH = \"truth\"\n",
    "    KEY_ASPECT = \"aspect\"\n",
    "\n",
    "    # Show argument defaults.\n",
    "    show_burnin = False\n",
    "    truth = None\n",
    "    aspect = \"auto\"\n",
    "    # Process optional arguments.\n",
    "    if KEY_SHOW_BURNIN in kwargs.keys():\n",
    "        show_burnin = bool(kwargs[KEY_SHOW_BURNIN])\n",
    "    if KEY_TRUTH in kwargs.keys():\n",
    "        truth = kwargs[KEY_TRUTH]\n",
    "        if type(truth) is not list:\n",
    "            truth = [truth]\n",
    "    if KEY_ASPECT in kwargs.keys():\n",
    "        aspect = float(kwargs[KEY_ASPECT])\n",
    "    # Start the plotting procedure.\n",
    "    max_iterations = result.iterations()\n",
    "    num_parameters = result.num_parameters()\n",
    "    if show_burnin and result.has_burnin():\n",
    "        max_iterations += result.burnin_iterations()\n",
    "    x = np.arange(1, max_iterations + 1)\n",
    "    fig, ax = plt.subplots(nrows=num_parameters, ncols=1)\n",
    "\n",
    "    def plot_chain(ax, parameter_index, aspect):\n",
    "        chain = []\n",
    "        if show_burnin and result.has_burnin():\n",
    "            chain = chain + result.burnin_chain(parameter_index)\n",
    "        chain = chain + result.chain(parameter_index)\n",
    "        ax.grid(True, alpha=0.4)\n",
    "        ax.set_xlim([0, len(chain)])\n",
    "        ax.minorticks_on()\n",
    "        ax.plot(x, chain)\n",
    "        aspect = (1. / ax.get_data_ratio()) * (1. / aspect)\n",
    "        ax.set_aspect(aspect)\n",
    "        if not parameter_index:\n",
    "            parameter_index = 0\n",
    "        ax.axhline(truth[parameter_index], c='r', lw=2, linestyle='--', alpha=.7)\n",
    "\n",
    "    if num_parameters > 1:\n",
    "        for parameter_index, row in enumerate(ax):\n",
    "            plot_chain(row, parameter_index, aspect)\n",
    "    else:\n",
    "        plot_chain(ax, None, aspect)\n",
    "\n",
    "    return fig, ax"
   ]
  },
  {
   "cell_type": "code",
   "execution_count": 9,
   "metadata": {},
   "outputs": [
    {
     "data": {
      "image/png": "[encoded data removed]",
      "text/plain": [
       "<Figure size 1080x1080 with 1 Axes>"
      ]
     },
     "metadata": {},
     "output_type": "display_data"
    }
   ],
   "source": [
    "fig, axes = traceplot(result, truth=theta_true, aspect=10, show_burnin=True)\n",
    "fig.set_figheight(15)\n",
    "fig.set_figwidth(15)\n",
    "plt.show()"
   ]
  }
 ],
 "metadata": {
  "kernelspec": {
   "display_name": "Python 3",
   "language": "python",
   "name": "python3"
  },
  "language_info": {
   "codemirror_mode": {
    "name": "ipython",
    "version": 3
   },
   "file_extension": ".py",
   "mimetype": "text/x-python",
   "name": "python",
   "nbconvert_exporter": "python",
   "pygments_lexer": "ipython3",
   "version": "3.6.3"
  }
 },
 "nbformat": 4,
 "nbformat_minor": 2
}
