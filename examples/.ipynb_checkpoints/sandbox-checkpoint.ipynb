{
 "cells": [
  {
   "cell_type": "code",
   "execution_count": 4,
   "metadata": {},
   "outputs": [],
   "source": [
    "import torch\n",
    "import numpy as np\n",
    "import matplotlib.pyplot as plt\n",
    "\n",
    "from torch.distributions.normal import Normal"
   ]
  },
  {
   "cell_type": "code",
   "execution_count": 194,
   "metadata": {},
   "outputs": [
    {
     "data": {
      "image/png": "[encoded data removed]",
      "text/plain": [
       "<Figure size 432x288 with 1 Axes>"
      ]
     },
     "metadata": {},
     "output_type": "display_data"
    }
   ],
   "source": [
    "num_observations = 100\n",
    "theta_true = 1.\n",
    "\n",
    "\n",
    "N = torch.distributions.normal.Normal(theta_true, 1.)\n",
    "observations = N.sample(torch.Size([num_observations])).view(-1, 1)\n",
    "\n",
    "plt.hist(observations.numpy(), bins=50, density=True)\n",
    "plt.show()"
   ]
  },
  {
   "cell_type": "code",
   "execution_count": 229,
   "metadata": {},
   "outputs": [],
   "source": [
    "def allocate_classifier(hidden=100):\n",
    "    return torch.nn.Sequential(\n",
    "        torch.nn.Linear(1, hidden),\n",
    "        torch.nn.PReLU(),\n",
    "        torch.nn.Linear(hidden, hidden),\n",
    "        torch.nn.PReLU(),\n",
    "        torch.nn.Linear(hidden, hidden),\n",
    "        torch.nn.PReLU(),\n",
    "        torch.nn.Linear(hidden, hidden),\n",
    "        torch.nn.PReLU(),\n",
    "        torch.nn.Linear(hidden, 1),\n",
    "        torch.nn.Sigmoid())"
   ]
  },
  {
   "cell_type": "code",
   "execution_count": 236,
   "metadata": {},
   "outputs": [],
   "source": [
    "from IPython.display import clear_output\n",
    "%matplotlib inline\n",
    "\n",
    "def train_classifier(theta_next, theta, gamma=1.):\n",
    "    num_samples = 20000\n",
    "    batch_size = 32\n",
    "    epochs = 200\n",
    "    iterations = int(num_samples * epochs / batch_size)\n",
    "    print(iterations)\n",
    "    real = torch.ones(batch_size, 1)\n",
    "    fake = torch.zeros(batch_size, 1)\n",
    "    bce = torch.nn.BCELoss()\n",
    "    classifier = allocate_classifier()\n",
    "    optimizer = torch.optim.SGD(classifier.parameters(), lr=.005, momentum=.9)\n",
    "    #optimizer = torch.optim.Adam(classifier.parameters(), lr=.0001)\n",
    "    size = torch.Size([batch_size])\n",
    "    N_next = Normal(theta_next, 1.)\n",
    "    N = Normal(theta, 1.)\n",
    "    x_next = N_next.sample(size).view(-1, 1).detach()\n",
    "    x_current = N.sample(size).view(-1, 1).detach()\n",
    "    losses = []\n",
    "    for iteration in range(iterations):\n",
    "        x_real = N_next.sample(size).view(-1, 1).detach()\n",
    "        x_fake = N.sample(size).view(-1, 1).detach()\n",
    "        y_real = classifier(x_real) \n",
    "        y_fake = classifier(x_fake)\n",
    "        loss = (bce(y_real, real) + bce(y_fake, fake)) / 2.\n",
    "        optimizer.zero_grad()\n",
    "        loss.backward()\n",
    "        optimizer.step()\n",
    "        if iteration % 1000 == 0:\n",
    "            clear_output(wait=True)\n",
    "            losses.append(loss.item())\n",
    "            s = classifier(observations)\n",
    "            lr = ((s) / (1 - s))\n",
    "            plt.ylim([.7, 1.3])\n",
    "            plt.scatter(observations.detach().numpy(), lr.detach().numpy())\n",
    "            plt.show()\n",
    "        \n",
    "    return classifier, losses"
   ]
  },
  {
   "cell_type": "code",
   "execution_count": null,
   "metadata": {},
   "outputs": [
    {
     "data": {
      "image/png": "[encoded data removed]",
      "text/plain": [
       "<Figure size 432x288 with 1 Axes>"
      ]
     },
     "metadata": {},
     "output_type": "display_data"
    }
   ],
   "source": [
    "theta_next = 1.75\n",
    "theta = 1.8\n",
    "classifier, losses = train_classifier(theta_next, theta)\n",
    "classifier.eval()\n",
    "\n",
    "N_next = Normal(theta_next, 1.)\n",
    "N = Normal(theta, 1.)\n",
    "\n",
    "s = classifier(observations)\n",
    "lr = ((s) / (1 - s)).log().sum().exp()\n",
    "\n",
    "analytical = (N_next.log_prob(observations).sum() - N.log_prob(observations).sum()).exp()\n",
    "print(lr)\n",
    "print(analytical)\n",
    "analytical_lr = N_next.log_prob(observations).exp() / N.log_prob(observations).exp()\n",
    "plt.plot(np.arange(len(losses)), losses)\n",
    "plt.show()"
   ]
  },
  {
   "cell_type": "code",
   "execution_count": null,
   "metadata": {},
   "outputs": [],
   "source": [
    "lr = (s / (1 - s))\n",
    "plt.scatter(observations.detach().numpy(), lr.detach().numpy())\n",
    "plt.scatter(observations.detach().numpy(), analytical_lr.detach().numpy())\n",
    "plt.show()"
   ]
  },
  {
   "cell_type": "markdown",
   "metadata": {},
   "source": [
    "## Pretrained"
   ]
  },
  {
   "cell_type": "code",
   "execution_count": 143,
   "metadata": {},
   "outputs": [],
   "source": [
    "U = torch.distributions.uniform.Uniform(-2, 4)\n",
    "num_thetas = 1000\n",
    "num_samples = 10000\n",
    "thetas = U.sample(torch.Size([num_thetas]))\n",
    "\n",
    "dataset = torch.zeros(num_thetas * num_samples, 2)\n",
    "index = 0\n",
    "for theta in thetas:\n",
    "    N = torch.distributions.normal.Normal(theta, 1.)\n",
    "    samples = N.sample(torch.Size([num_samples]))\n",
    "    for sample in samples:\n",
    "        dataset[index][0] = theta\n",
    "        dataset[index][1] = sample\n",
    "        index += 1"
   ]
  },
  {
   "cell_type": "code",
   "execution_count": 144,
   "metadata": {},
   "outputs": [
    {
     "data": {
      "text/plain": [
       "10000000"
      ]
     },
     "execution_count": 144,
     "metadata": {},
     "output_type": "execute_result"
    }
   ],
   "source": [
    "dataset.size(0)"
   ]
  },
  {
   "cell_type": "code",
   "execution_count": 152,
   "metadata": {},
   "outputs": [],
   "source": [
    "theta_ref = 0.\n",
    "dataset_ref = torch.zeros(num_samples, 2)\n",
    "N = torch.distributions.normal.Normal(theta_ref, 1.)\n",
    "dataset_ref = N.sample(torch.Size([num_samples]))"
   ]
  },
  {
   "cell_type": "code",
   "execution_count": 146,
   "metadata": {},
   "outputs": [],
   "source": [
    "def sample(x, num_samples):\n",
    "    with torch.no_grad():\n",
    "        indices = torch.tensor(np.random.randint(0, x.size(0), num_samples))\n",
    "        x = x[indices].view(-1, 2)\n",
    "        \n",
    "    return x"
   ]
  },
  {
   "cell_type": "markdown",
   "metadata": {},
   "source": [
    "### Training"
   ]
  },
  {
   "cell_type": "code",
   "execution_count": 160,
   "metadata": {},
   "outputs": [],
   "source": [
    "def allocate_parameterized_classifier(hidden=50):\n",
    "    return torch.nn.Sequential(\n",
    "        torch.nn.Linear(2, hidden),\n",
    "        torch.nn.ReLU(),\n",
    "        torch.nn.Linear(hidden, hidden),\n",
    "        torch.nn.ReLU(),\n",
    "        torch.nn.Linear(hidden, 1),\n",
    "        torch.nn.Sigmoid())"
   ]
  },
  {
   "cell_type": "code",
   "execution_count": 161,
   "metadata": {},
   "outputs": [],
   "source": [
    "classifier = allocate_parameterized_classifier()"
   ]
  },
  {
   "cell_type": "code",
   "execution_count": 163,
   "metadata": {},
   "outputs": [
    {
     "name": "stdout",
     "output_type": "stream",
     "text": [
      "0.6950196027755737\n",
      "0.3765794336795807\n",
      "0.38858503103256226\n",
      "0.5342462062835693\n",
      "0.41020339727401733\n",
      "0.5136439800262451\n",
      "0.4831361770629883\n",
      "0.5127133727073669\n",
      "0.4351060092449188\n",
      "0.5219138264656067\n",
      "0.3320631980895996\n",
      "0.41857603192329407\n",
      "0.3204188644886017\n",
      "0.37953969836235046\n",
      "0.44468382000923157\n",
      "0.4149278402328491\n",
      "0.4951012432575226\n",
      "0.45409491658210754\n",
      "0.4666091203689575\n",
      "0.339375764131546\n",
      "0.3477858304977417\n",
      "0.3850287199020386\n",
      "0.5451000332832336\n",
      "0.36987748742103577\n",
      "0.45075374841690063\n",
      "0.5555874705314636\n",
      "0.40227264165878296\n",
      "0.46237292885780334\n",
      "0.5084769129753113\n",
      "0.46797266602516174\n",
      "0.47242340445518494\n",
      "0.48148345947265625\n",
      "0.437949538230896\n",
      "0.3893199563026428\n",
      "0.49196887016296387\n",
      "0.4406657814979553\n",
      "0.503501832485199\n",
      "0.4804902672767639\n",
      "0.47732675075531006\n",
      "0.44690221548080444\n",
      "0.40323084592819214\n",
      "0.43179401755332947\n",
      "0.4570750594139099\n",
      "0.3697664737701416\n",
      "0.36794406175613403\n",
      "0.34895187616348267\n",
      "0.44933199882507324\n",
      "0.47238051891326904\n",
      "0.4580104947090149\n",
      "0.4221951961517334\n",
      "0.48021864891052246\n",
      "0.43387019634246826\n",
      "0.3369469940662384\n"
     ]
    },
    {
     "ename": "KeyboardInterrupt",
     "evalue": "",
     "output_type": "error",
     "traceback": [
      "\u001b[0;31m---------------------------------------------------------------------------\u001b[0m",
      "\u001b[0;31mKeyboardInterrupt\u001b[0m                         Traceback (most recent call last)",
      "\u001b[0;32m<ipython-input-163-8745152b399e>\u001b[0m in \u001b[0;36m<module>\u001b[0;34m()\u001b[0m\n\u001b[1;32m     16\u001b[0m     \u001b[0mloss\u001b[0m \u001b[0;34m=\u001b[0m \u001b[0;34m(\u001b[0m\u001b[0mbce\u001b[0m\u001b[0;34m(\u001b[0m\u001b[0my_real\u001b[0m\u001b[0;34m,\u001b[0m \u001b[0mreal\u001b[0m\u001b[0;34m)\u001b[0m \u001b[0;34m+\u001b[0m \u001b[0mbce\u001b[0m\u001b[0;34m(\u001b[0m\u001b[0my_fake\u001b[0m\u001b[0;34m,\u001b[0m \u001b[0mfake\u001b[0m\u001b[0;34m)\u001b[0m\u001b[0;34m)\u001b[0m \u001b[0;34m/\u001b[0m \u001b[0;36m2.\u001b[0m\u001b[0;34m\u001b[0m\u001b[0m\n\u001b[1;32m     17\u001b[0m     \u001b[0moptimizer\u001b[0m\u001b[0;34m.\u001b[0m\u001b[0mzero_grad\u001b[0m\u001b[0;34m(\u001b[0m\u001b[0;34m)\u001b[0m\u001b[0;34m\u001b[0m\u001b[0m\n\u001b[0;32m---> 18\u001b[0;31m     \u001b[0mloss\u001b[0m\u001b[0;34m.\u001b[0m\u001b[0mbackward\u001b[0m\u001b[0;34m(\u001b[0m\u001b[0;34m)\u001b[0m\u001b[0;34m\u001b[0m\u001b[0m\n\u001b[0m\u001b[1;32m     19\u001b[0m     \u001b[0moptimizer\u001b[0m\u001b[0;34m.\u001b[0m\u001b[0mstep\u001b[0m\u001b[0;34m(\u001b[0m\u001b[0;34m)\u001b[0m\u001b[0;34m\u001b[0m\u001b[0m\n\u001b[1;32m     20\u001b[0m     \u001b[0;32mif\u001b[0m \u001b[0miteration\u001b[0m \u001b[0;34m%\u001b[0m \u001b[0;36m1000\u001b[0m \u001b[0;34m==\u001b[0m \u001b[0;36m0\u001b[0m\u001b[0;34m:\u001b[0m\u001b[0;34m\u001b[0m\u001b[0m\n",
      "\u001b[0;32m~/Anaconda/lib/python3.6/site-packages/torch/tensor.py\u001b[0m in \u001b[0;36mbackward\u001b[0;34m(self, gradient, retain_graph, create_graph)\u001b[0m\n\u001b[1;32m     91\u001b[0m                 \u001b[0mproducts\u001b[0m\u001b[0;34m.\u001b[0m \u001b[0mDefaults\u001b[0m \u001b[0mto\u001b[0m\u001b[0;31m \u001b[0m\u001b[0;31m`\u001b[0m\u001b[0;31m`\u001b[0m\u001b[0;32mFalse\u001b[0m\u001b[0;31m`\u001b[0m\u001b[0;31m`\u001b[0m\u001b[0;34m.\u001b[0m\u001b[0;34m\u001b[0m\u001b[0m\n\u001b[1;32m     92\u001b[0m         \"\"\"\n\u001b[0;32m---> 93\u001b[0;31m         \u001b[0mtorch\u001b[0m\u001b[0;34m.\u001b[0m\u001b[0mautograd\u001b[0m\u001b[0;34m.\u001b[0m\u001b[0mbackward\u001b[0m\u001b[0;34m(\u001b[0m\u001b[0mself\u001b[0m\u001b[0;34m,\u001b[0m \u001b[0mgradient\u001b[0m\u001b[0;34m,\u001b[0m \u001b[0mretain_graph\u001b[0m\u001b[0;34m,\u001b[0m \u001b[0mcreate_graph\u001b[0m\u001b[0;34m)\u001b[0m\u001b[0;34m\u001b[0m\u001b[0m\n\u001b[0m\u001b[1;32m     94\u001b[0m \u001b[0;34m\u001b[0m\u001b[0m\n\u001b[1;32m     95\u001b[0m     \u001b[0;32mdef\u001b[0m \u001b[0mregister_hook\u001b[0m\u001b[0;34m(\u001b[0m\u001b[0mself\u001b[0m\u001b[0;34m,\u001b[0m \u001b[0mhook\u001b[0m\u001b[0;34m)\u001b[0m\u001b[0;34m:\u001b[0m\u001b[0;34m\u001b[0m\u001b[0m\n",
      "\u001b[0;32m~/Anaconda/lib/python3.6/site-packages/torch/autograd/__init__.py\u001b[0m in \u001b[0;36mbackward\u001b[0;34m(tensors, grad_tensors, retain_graph, create_graph, grad_variables)\u001b[0m\n\u001b[1;32m     88\u001b[0m     Variable._execution_engine.run_backward(\n\u001b[1;32m     89\u001b[0m         \u001b[0mtensors\u001b[0m\u001b[0;34m,\u001b[0m \u001b[0mgrad_tensors\u001b[0m\u001b[0;34m,\u001b[0m \u001b[0mretain_graph\u001b[0m\u001b[0;34m,\u001b[0m \u001b[0mcreate_graph\u001b[0m\u001b[0;34m,\u001b[0m\u001b[0;34m\u001b[0m\u001b[0m\n\u001b[0;32m---> 90\u001b[0;31m         allow_unreachable=True)  # allow_unreachable flag\n\u001b[0m\u001b[1;32m     91\u001b[0m \u001b[0;34m\u001b[0m\u001b[0m\n\u001b[1;32m     92\u001b[0m \u001b[0;34m\u001b[0m\u001b[0m\n",
      "\u001b[0;31mKeyboardInterrupt\u001b[0m: "
     ]
    }
   ],
   "source": [
    "classifier = allocate_parameterized_classifier()\n",
    "batch_size = 64\n",
    "epochs = 1\n",
    "iterations = int(dataset.size(0) * epochs / batch_size)\n",
    "real = torch.ones(batch_size, 1)\n",
    "fake = torch.zeros(batch_size, 1)\n",
    "optimizer = torch.optim.Adam(classifier.parameters())\n",
    "bce = torch.nn.BCELoss()\n",
    "for iteration in range(iterations):\n",
    "    x_real = sample(dataset, batch_size).detach()\n",
    "    thetas = x_real[:,0].view(-1, 1).detach()\n",
    "    x_fake = sample(dataset_ref, batch_size).view(-1, 1).detach()\n",
    "    x_fake = torch.cat([thetas, x_fake], dim=1)\n",
    "    y_real = classifier(x_real)\n",
    "    y_fake = classifier(x_fake)\n",
    "    loss = (bce(y_real, real) + bce(y_fake, fake)) / 2.\n",
    "    optimizer.zero_grad()\n",
    "    loss.backward()\n",
    "    optimizer.step()\n",
    "    if iteration % 1000 == 0:\n",
    "        print(loss.item())"
   ]
  },
  {
   "cell_type": "code",
   "execution_count": 175,
   "metadata": {},
   "outputs": [
    {
     "name": "stdout",
     "output_type": "stream",
     "text": [
      "tensor(523.7780, grad_fn=<ExpBackward>)\n",
      "tensor(25.7373)\n"
     ]
    },
    {
     "data": {
      "image/png": "[encoded data removed]",
      "text/plain": [
       "<Figure size 432x288 with 1 Axes>"
      ]
     },
     "metadata": {},
     "output_type": "display_data"
    }
   ],
   "source": [
    "s = classifier(observations)\n",
    "lr = ((s) / (1 - s)).log().sum().exp()\n",
    "N_next = Normal(theta_next, 1.)\n",
    "N = Normal(theta, 1.)\n",
    "analytical = (N_next.log_prob(observations).sum() - N.log_prob(observations).sum()).exp()\n",
    "print(lr)\n",
    "print(analytical)\n",
    "analytical_lr = N_next.log_prob(observations).exp() / N.log_prob(observations).exp()\n",
    "plt.plot(np.arange(len(losses)), losses)\n",
    "plt.show()"
   ]
  },
  {
   "cell_type": "code",
   "execution_count": null,
   "metadata": {},
   "outputs": [],
   "source": []
  }
 ],
 "metadata": {
  "kernelspec": {
   "display_name": "Python 3",
   "language": "python",
   "name": "python3"
  },
  "language_info": {
   "codemirror_mode": {
    "name": "ipython",
    "version": 3
   },
   "file_extension": ".py",
   "mimetype": "text/x-python",
   "name": "python",
   "nbconvert_exporter": "python",
   "pygments_lexer": "ipython3",
   "version": "3.6.4"
  }
 },
 "nbformat": 4,
 "nbformat_minor": 2
}
