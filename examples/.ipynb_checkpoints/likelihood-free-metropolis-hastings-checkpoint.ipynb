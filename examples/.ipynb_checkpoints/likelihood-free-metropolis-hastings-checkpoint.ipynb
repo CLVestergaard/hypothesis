{
 "cells": [
  {
   "cell_type": "markdown",
   "metadata": {},
   "source": [
    "# Likelihood-free Metropolis Hastings"
   ]
  },
  {
   "cell_type": "code",
   "execution_count": null,
   "metadata": {},
   "outputs": [],
   "source": [
    "import numpy as np\n",
    "import torch\n",
    "import matplotlib.pyplot as plt\n",
    "import matplotlib.mlab as mlab"
   ]
  },
  {
   "cell_type": "markdown",
   "metadata": {},
   "source": [
    "## Observations"
   ]
  },
  {
   "cell_type": "code",
   "execution_count": null,
   "metadata": {},
   "outputs": [],
   "source": [
    "from hypothesis.benchmark.normal import NormalSimulator as Simulator\n",
    "from hypothesis.benchmark.normal import allocate_observations\n",
    "\n",
    "num_observations = 50\n",
    "theta_true = 1\n",
    "\n",
    "_, observations = allocate_observations(theta_true, num_observations)\n",
    "\n",
    "plt.hist(observations.numpy(), bins=25)\n",
    "plt.show()"
   ]
  },
  {
   "cell_type": "markdown",
   "metadata": {},
   "source": [
    "## Posterior inference with Likelihood-free MH"
   ]
  },
  {
   "cell_type": "code",
   "execution_count": null,
   "metadata": {},
   "outputs": [],
   "source": [
    "from hypothesis.transition import UniformTransitionDistribution\n",
    "\n",
    "min = torch.tensor(-5)\n",
    "max = torch.tensor(8)\n",
    "transition = UniformTransitionDistribution(min, max)"
   ]
  },
  {
   "cell_type": "code",
   "execution_count": null,
   "metadata": {},
   "outputs": [],
   "source": [
    "def allocate_classifier(hidden=25):\n",
    "    return torch.nn.Sequential(\n",
    "        torch.nn.Linear(1, hidden),\n",
    "        torch.nn.PReLU(),\n",
    "        torch.nn.Linear(hidden, hidden),\n",
    "        torch.nn.PReLU(),\n",
    "        torch.nn.Linear(hidden, hidden),\n",
    "        torch.nn.PReLU(),\n",
    "        torch.nn.Linear(hidden, hidden),\n",
    "        torch.nn.PReLU(),\n",
    "        torch.nn.Linear(hidden, 1),\n",
    "        torch.nn.Sigmoid()\n",
    "    )"
   ]
  },
  {
   "cell_type": "code",
   "execution_count": null,
   "metadata": {},
   "outputs": [],
   "source": [
    "from hypothesis.inference import LikelihoodFreeMetropolisHastings\n",
    "\n",
    "simulator = Simulator()\n",
    "sampler = LikelihoodFreeMetropolisHastings(\n",
    "    simulator,\n",
    "    transition,\n",
    "    allocate_classifier)"
   ]
  },
  {
   "cell_type": "code",
   "execution_count": null,
   "metadata": {},
   "outputs": [],
   "source": [
    "theta_0 = torch.tensor(5).float()\n",
    "chain = sampler.infer(observations, theta_0=theta_0, samples=1000)"
   ]
  }
 ],
 "metadata": {
  "kernelspec": {
   "display_name": "Python 3",
   "language": "python",
   "name": "python3"
  },
  "language_info": {
   "codemirror_mode": {
    "name": "ipython",
    "version": 3
   },
   "file_extension": ".py",
   "mimetype": "text/x-python",
   "name": "python",
   "nbconvert_exporter": "python",
   "pygments_lexer": "ipython3",
   "version": "3.6.4"
  }
 },
 "nbformat": 4,
 "nbformat_minor": 2
}
