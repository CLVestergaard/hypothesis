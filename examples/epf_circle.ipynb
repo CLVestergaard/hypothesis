{
 "cells": [
  {
   "cell_type": "markdown",
   "metadata": {},
   "source": [
    "# Elastic Particle Filtering"
   ]
  },
  {
   "cell_type": "code",
   "execution_count": 1,
   "metadata": {},
   "outputs": [],
   "source": [
    "import numpy as np\n",
    "import torch\n",
    "\n",
    "import matplotlib.pyplot as plt"
   ]
  },
  {
   "cell_type": "code",
   "execution_count": 2,
   "metadata": {},
   "outputs": [
    {
     "data": {
      "image/png": "[encoded data removed]",
      "text/plain": [
       "<Figure size 432x288 with 1 Axes>"
      ]
     },
     "metadata": {},
     "output_type": "display_data"
    }
   ],
   "source": [
    "from cag.benchmark.circle import allocate_observations\n",
    "\n",
    "theta_true, x_o = allocate_observations([.3, .5, .5], 1)\n",
    "\n",
    "plt.imshow(x_o.squeeze().numpy())\n",
    "plt.show()"
   ]
  },
  {
   "cell_type": "code",
   "execution_count": 3,
   "metadata": {},
   "outputs": [],
   "source": [
    "class Regressor(torch.nn.Module):\n",
    "    \n",
    "    def __init__(self):\n",
    "        super(Regressor, self).__init__()\n",
    "        self._observation_dim = 64\n",
    "        self._model = torch.nn.Sequential(\n",
    "            torch.nn.Linear(self._observation_dim ** 2, 600),\n",
    "            torch.nn.PReLU(),\n",
    "            torch.nn.Linear(600, 300),\n",
    "            torch.nn.PReLU(),\n",
    "            torch.nn.Linear(300, 300),\n",
    "            torch.nn.PReLU(),\n",
    "            torch.nn.Linear(300, 3),\n",
    "            torch.nn.Tanh()\n",
    "        )\n",
    "        \n",
    "    def forward(self, x):\n",
    "        x = x.view(-1, self._observation_dim ** 2)\n",
    "        return self._model(x)\n",
    "    \n",
    "regressor = Regressor()"
   ]
  },
  {
   "cell_type": "code",
   "execution_count": 4,
   "metadata": {},
   "outputs": [],
   "source": [
    "min = torch.tensor([-1, -1, -1]).float()\n",
    "max = torch.tensor([1, 1, 1]).float()\n",
    "initializer = torch.distributions.uniform.Uniform(min, max)"
   ]
  },
  {
   "cell_type": "code",
   "execution_count": null,
   "metadata": {},
   "outputs": [],
   "source": [
    "from cag.benchmark.circle import CircleSimulator as Simulator\n",
    "from cag.inference import ElasticParticleFiltering\n",
    "\n",
    "simulator = Simulator()\n",
    "epf = ElasticParticleFiltering(simulator, regressor)"
   ]
  },
  {
   "cell_type": "code",
   "execution_count": null,
   "metadata": {},
   "outputs": [],
   "source": [
    "mean, std = epf.infer(x_o, initializer, num_steps=1000)"
   ]
  },
  {
   "cell_type": "code",
   "execution_count": null,
   "metadata": {},
   "outputs": [],
   "source": [
    "print(mean)\n",
    "print(std)"
   ]
  },
  {
   "cell_type": "code",
   "execution_count": null,
   "metadata": {},
   "outputs": [],
   "source": [
    "from cag.benchmark.circle import allocate_observations\n",
    "\n",
    "theta_true, x_inferred = allocate_observations(mean, 1)\n",
    "\n",
    "plt.imshow(x_o.squeeze().numpy())\n",
    "plt.show()\n",
    "plt.imshow(x_inferred.squeeze().numpy())\n",
    "plt.show()"
   ]
  }
 ],
 "metadata": {
  "kernelspec": {
   "display_name": "Python 3",
   "language": "python",
   "name": "python3"
  },
  "language_info": {
   "codemirror_mode": {
    "name": "ipython",
    "version": 3
   },
   "file_extension": ".py",
   "mimetype": "text/x-python",
   "name": "python",
   "nbconvert_exporter": "python",
   "pygments_lexer": "ipython3",
   "version": "3.6.4"
  }
 },
 "nbformat": 4,
 "nbformat_minor": 2
}
