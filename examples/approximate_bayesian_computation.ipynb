{
 "cells": [
  {
   "cell_type": "markdown",
   "metadata": {},
   "source": [
    "# Approximate Bayesian Computation"
   ]
  },
  {
   "cell_type": "code",
   "execution_count": 9,
   "metadata": {
    "collapsed": true
   },
   "outputs": [],
   "source": [
    "import numpy as np\n",
    "import torch\n",
    "import matplotlib.pyplot as plt\n",
    "\n",
    "from torch.distributions.normal import Normal"
   ]
  },
  {
   "cell_type": "markdown",
   "metadata": {},
   "source": [
    "## Observations"
   ]
  },
  {
   "cell_type": "code",
   "execution_count": 10,
   "metadata": {},
   "outputs": [
    {
     "data": {
      "image/png": "[encoded data removed]",
      "text/plain": [
       "<Figure size 432x288 with 1 Axes>"
      ]
     },
     "metadata": {},
     "output_type": "display_data"
    }
   ],
   "source": [
    "num_observations = 100\n",
    "theta_true = 1.\n",
    "\n",
    "N = Normal(theta_true, 1.)\n",
    "observations = N.sample(torch.Size([num_observations])).view(-1, 1)\n",
    "\n",
    "plt.hist(observations.numpy(), bins=50, density=True)\n",
    "plt.show()"
   ]
  },
  {
   "cell_type": "markdown",
   "metadata": {},
   "source": [
    "## Posterior inference with ABC"
   ]
  },
  {
   "cell_type": "markdown",
   "metadata": {},
   "source": [
    "The forward model:"
   ]
  },
  {
   "cell_type": "code",
   "execution_count": 11,
   "metadata": {
    "collapsed": true
   },
   "outputs": [],
   "source": [
    "def forward_model(theta, num_samples=num_observations):\n",
    "    with torch.no_grad():\n",
    "        N = Normal(theta.item(), 1.)\n",
    "        samples = N.sample(torch.Size([num_samples]))\n",
    "        samples = samples.view(-1, 1)\n",
    "        \n",
    "    return samples"
   ]
  },
  {
   "cell_type": "markdown",
   "metadata": {},
   "source": [
    "Summary statistic:"
   ]
  },
  {
   "cell_type": "code",
   "execution_count": 12,
   "metadata": {
    "collapsed": true
   },
   "outputs": [],
   "source": [
    "def summary(x):\n",
    "    # Variance is kept static, mean is sufficient.\n",
    "    return x.mean().detach()"
   ]
  },
  {
   "cell_type": "markdown",
   "metadata": {},
   "source": [
    "Distance function:"
   ]
  },
  {
   "cell_type": "code",
   "execution_count": 13,
   "metadata": {
    "collapsed": true
   },
   "outputs": [],
   "source": [
    "def distance(x_a, x_b):\n",
    "    d = (x_a - x_b).abs()\n",
    "    return d"
   ]
  },
  {
   "cell_type": "markdown",
   "metadata": {},
   "source": [
    "Approximate Bayesian Computation (ABC) procedure:"
   ]
  },
  {
   "cell_type": "code",
   "execution_count": 14,
   "metadata": {},
   "outputs": [
    {
     "name": "stdout",
     "output_type": "stream",
     "text": [
      "Sample mean: tensor(0.9110)\n"
     ]
    },
    {
     "data": {
      "image/png": "[encoded data removed]",
      "text/plain": [
       "<Figure size 432x288 with 1 Axes>"
      ]
     },
     "metadata": {},
     "output_type": "display_data"
    }
   ],
   "source": [
    "from hypothesis.inference import ApproximateBayesianComputation as ABC\n",
    "from torch.distributions.uniform import Uniform\n",
    "\n",
    "prior = Uniform(-3, 3)\n",
    "epsilon = .3\n",
    "abc = ABC(prior, forward_model, summary, distance, epsilon=epsilon)\n",
    "samples = abc.infer(observations, samples=10000)\n",
    "samples = torch.tensor(samples)\n",
    "\n",
    "print(\"Sample mean:\", samples.mean())\n",
    "plt.hist(samples.numpy(), bins=50, density=True)\n",
    "plt.show()"
   ]
  },
  {
   "cell_type": "code",
   "execution_count": 15,
   "metadata": {},
   "outputs": [
    {
     "name": "stdout",
     "output_type": "stream",
     "text": [
      "Sample mean: tensor(0.9127)\n"
     ]
    },
    {
     "data": {
      "image/png": "[encoded data removed]",
      "text/plain": [
       "<Figure size 432x288 with 1 Axes>"
      ]
     },
     "metadata": {},
     "output_type": "display_data"
    }
   ],
   "source": [
    "from hypothesis.inference import ApproximateBayesianComputation as ABC\n",
    "from torch.distributions.uniform import Uniform\n",
    "\n",
    "prior = Uniform(-3, 3)\n",
    "epsilon = .1\n",
    "abc = ABC(prior, forward_model, summary, distance, epsilon=epsilon)\n",
    "samples = abc.infer(observations, samples=10000)\n",
    "samples = torch.tensor(samples)\n",
    "\n",
    "print(\"Sample mean:\", samples.mean())\n",
    "plt.hist(samples.numpy(), bins=50, density=True)\n",
    "plt.show()"
   ]
  },
  {
   "cell_type": "code",
   "execution_count": 16,
   "metadata": {},
   "outputs": [
    {
     "name": "stdout",
     "output_type": "stream",
     "text": [
      "Sample mean: tensor(0.9118)\n"
     ]
    },
    {
     "data": {
      "image/png": "[encoded data removed]",
      "text/plain": [
       "<Figure size 432x288 with 1 Axes>"
      ]
     },
     "metadata": {},
     "output_type": "display_data"
    }
   ],
   "source": [
    "from hypothesis.inference import ApproximateBayesianComputation as ABC\n",
    "from torch.distributions.uniform import Uniform\n",
    "\n",
    "prior = Uniform(-3, 3)\n",
    "epsilon = .05\n",
    "abc = ABC(prior, forward_model, summary, distance, epsilon=epsilon)\n",
    "samples = abc.infer(observations, samples=10000)\n",
    "samples = torch.tensor(samples)\n",
    "\n",
    "print(\"Sample mean:\", samples.mean())\n",
    "plt.hist(samples.numpy(), bins=50, density=True)\n",
    "plt.show()"
   ]
  },
  {
   "cell_type": "code",
   "execution_count": null,
   "metadata": {
    "collapsed": true
   },
   "outputs": [],
   "source": []
  }
 ],
 "metadata": {
  "kernelspec": {
   "display_name": "Python 3",
   "language": "python",
   "name": "python3"
  },
  "language_info": {
   "codemirror_mode": {
    "name": "ipython",
    "version": 3
   },
   "file_extension": ".py",
   "mimetype": "text/x-python",
   "name": "python",
   "nbconvert_exporter": "python",
   "pygments_lexer": "ipython3",
   "version": "3.6.3"
  }
 },
 "nbformat": 4,
 "nbformat_minor": 2
}
