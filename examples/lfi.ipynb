{
 "cells": [
  {
   "cell_type": "code",
   "execution_count": 1,
   "metadata": {
    "collapsed": true
   },
   "outputs": [],
   "source": [
    "import numpy as np\n",
    "import torch\n",
    "import matplotlib.pyplot as plt\n",
    "\n",
    "from torch import nn, optim\n",
    "\n",
    "from torch.distributions.normal import Normal\n",
    "from torch.distributions.uniform import Uniform\n",
    "from torch.utils.data import DataLoader, TensorDataset"
   ]
  },
  {
   "cell_type": "markdown",
   "metadata": {},
   "source": [
    "# Classifier definition"
   ]
  },
  {
   "cell_type": "code",
   "execution_count": 2,
   "metadata": {
    "collapsed": true
   },
   "outputs": [],
   "source": [
    "class ClassifierNet(torch.nn.Module):\n",
    "\n",
    "    def __init__(self):\n",
    "        super(ClassifierNet, self).__init__()\n",
    "\n",
    "        self.hidden0 = nn.Sequential(\n",
    "            nn.Linear(2, 30),\n",
    "            nn.LeakyReLU(0.2),\n",
    "            #nn.Dropout(0.3)\n",
    "        )\n",
    "        self.hidden1 = nn.Sequential(\n",
    "            nn.Linear(30, 100),\n",
    "            nn.LeakyReLU(0.2),\n",
    "            #nn.Dropout(0.3)\n",
    "        )\n",
    "        self.hidden2 = nn.Sequential(\n",
    "            nn.Linear(100, 250),\n",
    "            nn.LeakyReLU(0.2),\n",
    "            #nn.Dropout(0.3)\n",
    "        )\n",
    "        self.hidden3 = nn.Sequential(\n",
    "            nn.Linear(250, 500),\n",
    "            nn.LeakyReLU(0.2),\n",
    "            #nn.Dropout(0.3)\n",
    "        )\n",
    "        self.hidden4 = nn.Sequential(\n",
    "            nn.Linear(500, 250),\n",
    "            nn.LeakyReLU(0.2),\n",
    "            #nn.Dropout(0.3)\n",
    "        )\n",
    "        self.hidden5 = nn.Sequential(\n",
    "            nn.Linear(250, 100),\n",
    "            nn.LeakyReLU(0.2),\n",
    "            #nn.Dropout(0.3)\n",
    "        )\n",
    "        self.hidden6 = nn.Sequential(\n",
    "            nn.Linear(100, 30),\n",
    "            nn.LeakyReLU(0.2),\n",
    "            #nn.Dropout(0.3)\n",
    "        )\n",
    "        self.out = nn.Sequential(\n",
    "            torch.nn.Linear(30, 1),\n",
    "            torch.nn.Sigmoid()\n",
    "        )\n",
    "\n",
    "    def forward(self, x):\n",
    "        x = self.hidden0(x)\n",
    "        x = self.hidden1(x)\n",
    "        x = self.hidden2(x)\n",
    "        x = self.hidden3(x)\n",
    "        x = self.hidden4(x)\n",
    "        x = self.hidden5(x)\n",
    "        x = self.hidden6(x)\n",
    "        x = self.out(x)\n",
    "        return x"
   ]
  },
  {
   "cell_type": "markdown",
   "metadata": {},
   "source": [
    "# Target distribution"
   ]
  },
  {
   "cell_type": "code",
   "execution_count": 3,
   "metadata": {
    "collapsed": true
   },
   "outputs": [],
   "source": [
    "theta_true = 0.\n",
    "true_dist = Normal(theta_true, 1.)"
   ]
  },
  {
   "cell_type": "markdown",
   "metadata": {},
   "source": [
    "# Classifier instance: load persisted one or train a new one"
   ]
  },
  {
   "cell_type": "code",
   "execution_count": 4,
   "metadata": {},
   "outputs": [
    {
     "name": "stderr",
     "output_type": "stream",
     "text": [
      "/Users/vladimirbegy/anaconda3/lib/python3.6/site-packages/torch/serialization.py:391: UserWarning: Couldn't retrieve source code for container of type ClassifierNet. It won't be checked for correctness upon loading.\n",
      "  \"type \" + container_type.__name__ + \". It won't be checked \"\n"
     ]
    }
   ],
   "source": [
    "def train_s(optimizer, s, x, y):\n",
    "    optimizer.zero_grad()\n",
    "\n",
    "    y_hat = s(x)\n",
    "    error = loss(y_hat, y)\n",
    "    error.backward()\n",
    "    optimizer.step()\n",
    "\n",
    "    return error, y_hat\n",
    "\n",
    "try:\n",
    "    #persisted one trained for 400 epochs\n",
    "    #on n_thetas, x_per_theta = 1000, 1000\n",
    "    s = torch.load(\"classifier.dat\")\n",
    "except FileNotFoundError:\n",
    "    #training data\n",
    "    U = Uniform(-10., 10.)\n",
    "\n",
    "    n_thetas = 10000\n",
    "    x_per_theta = 10000\n",
    "    training_set_size = n_thetas * x_per_theta\n",
    "    X = torch.empty(training_set_size, 2)\n",
    "    Y = torch.empty(training_set_size, 1)\n",
    "\n",
    "    for i in range(0, n_thetas):\n",
    "\n",
    "        theta = U.sample().item()\n",
    "\n",
    "        for j in range(0, x_per_theta, 2):\n",
    "\n",
    "            x = Normal(theta, 1.).sample().item()\n",
    "\n",
    "            X[i*x_per_theta+j] = torch.tensor([theta, x])\n",
    "            Y[i*x_per_theta+j] = 1.\n",
    "\n",
    "            x_fake = true_dist.sample().item()\n",
    "\n",
    "            X[i*x_per_theta+j+1] = torch.tensor([theta, x_fake])\n",
    "            Y[i*x_per_theta+j+1] = 0.\n",
    "\n",
    "    dataset = TensorDataset(X, Y)\n",
    "    data_loader = DataLoader(dataset, batch_size=100, shuffle=False)\n",
    "\n",
    "    #train a net\n",
    "    s = ClassifierNet()\n",
    "    optimizer = optim.Adam(s.parameters(), lr=0.0002)\n",
    "\n",
    "    num_epochs = 3000\n",
    "\n",
    "    for epoch in range(num_epochs):\n",
    "        print(\"Epoch {} of {}\".format(epoch+1, num_epochs))\n",
    "        for n_batch, batch in enumerate(data_loader):\n",
    "            x = batch[0]\n",
    "            y = batch[1]\n",
    "            error, y_hat = train_s(optimizer, s, x, y)\n",
    "\n",
    "    torch.save(s, \"classifier.dat\")"
   ]
  },
  {
   "cell_type": "markdown",
   "metadata": {},
   "source": [
    "# Analytical LR vs. Classifier LR"
   ]
  },
  {
   "cell_type": "code",
   "execution_count": 5,
   "metadata": {},
   "outputs": [
    {
     "data": {
      "image/png": "[encoded data removed]",
      "text/plain": [
       "<Figure size 432x288 with 1 Axes>"
      ]
     },
     "metadata": {},
     "output_type": "display_data"
    }
   ],
   "source": [
    "n_obs = 1000\n",
    "true_obs = true_dist.sample(torch.Size([n_obs])).view(-1, 1)\n",
    "\n",
    "def analytical_lr(theta, observations):\n",
    "    p_true = Normal(0., 1.)\n",
    "    p_other = Normal(theta, 1.)\n",
    "\n",
    "    return (p_other.log_prob(observations).exp() / p_true.log_prob(observations).exp()).sum()\n",
    "\n",
    "def classifier_lr(theta, observations, s):\n",
    "    input = theta.view(-1, 1).repeat(n_obs, 1)\n",
    "    input = torch.cat((input, observations), 1)\n",
    "    _s = s(input)\n",
    "    lr = (_s) / (1 - _s)\n",
    "    return lr.sum()\n",
    "\n",
    "min_x = np.amin(-10.)\n",
    "max_x = np.amax(10.)\n",
    "thetas_range = np.linspace(float(min_x), float(max_x), 30000)\n",
    "\n",
    "a_lr = []\n",
    "c_lr = []\n",
    "for theta in thetas_range:\n",
    "    a_lr.append(analytical_lr(theta, true_obs).item())\n",
    "    c_lr.append(classifier_lr(torch.tensor([theta]), true_obs, s).item())\n",
    "\n",
    "plt.scatter(thetas_range, c_lr, alpha=.7, label=\"Classifier LR function\")\n",
    "plt.scatter(thetas_range, a_lr, alpha=.7, label=\"Analytical LR function\")\n",
    "plt.legend()\n",
    "plt.show()"
   ]
  },
  {
   "cell_type": "markdown",
   "metadata": {},
   "source": [
    "# Likelihood free inference with Metropolis Hastings"
   ]
  },
  {
   "cell_type": "code",
   "execution_count": 6,
   "metadata": {},
   "outputs": [
    {
     "name": "stdout",
     "output_type": "stream",
     "text": [
      "Mean of estimated thetas: 0.11988148095458746\n"
     ]
    }
   ],
   "source": [
    "theta_current = torch.tensor([5.0])\n",
    "steps = 1000\n",
    "thetas = []\n",
    "\n",
    "n_obs = 1000\n",
    "true_obs = true_dist.sample(torch.Size([n_obs])).view(-1, 1)\n",
    "\n",
    "for i in range(steps):\n",
    "    #print(\"Iteration {} of {}\".format(i+1, steps))\n",
    "\n",
    "    proposal = Normal(theta_current, torch.tensor([1.0]))\n",
    "    theta_next = proposal.sample()\n",
    "\n",
    "    input_current = theta_current.view(-1, 1).repeat(n_obs, 1)\n",
    "    input_current = torch.cat((input_current, true_obs), 1)\n",
    "    s_current = s(input_current)\n",
    "    lr_current = (s_current) / (1 - s_current)\n",
    "\n",
    "    input_next = theta_next.view(-1, 1).repeat(n_obs, 1)\n",
    "    input_next = torch.cat((input_next, true_obs), 1)\n",
    "    s_next = s(input_next)\n",
    "    lr_next = (s_next) / (1 - s_next)\n",
    "\n",
    "    lr = (lr_next.log().sum() - lr_current.log().sum()).exp()\n",
    "    acceptance = min(1, lr.item())\n",
    "\n",
    "    if np.random.uniform() <= acceptance:\n",
    "        theta_current = theta_next\n",
    "        #print(\"ACCEPTED new theta: {}\".format(theta_current.item()))\n",
    "\n",
    "    thetas.append(theta_current.item())\n",
    "    \n",
    "mean_theta = sum(thetas) / float(len(thetas))\n",
    "print(\"Mean of estimated thetas: {}\".format(mean_theta))"
   ]
  },
  {
   "cell_type": "markdown",
   "metadata": {},
   "source": [
    "# Likelihood free inference with Hamiltonian MC"
   ]
  },
  {
   "cell_type": "code",
   "execution_count": 7,
   "metadata": {},
   "outputs": [
    {
     "name": "stdout",
     "output_type": "stream",
     "text": [
      "Mean of estimated thetas: 0.10418816389702261\n"
     ]
    }
   ],
   "source": [
    "theta_current = torch.tensor([5.0])\n",
    "steps = 1000\n",
    "thetas = []\n",
    "\n",
    "n_obs = 1000\n",
    "true_obs = true_dist.sample(torch.Size([n_obs])).view(-1, 1)\n",
    "\n",
    "def ref_likelihood(observations):\n",
    "    return Normal(0., 1.).log_prob(observations).exp()\n",
    "\n",
    "def U(theta, observations, s):\n",
    "    input = theta.view(-1, 1).repeat(n_obs, 1)\n",
    "    input = torch.cat((input, observations), 1)\n",
    "    _s = s(input)\n",
    "    lr = (_s) / (1 - _s)\n",
    "    likelihood = lr * ref_likelihood(observations)\n",
    "    return -likelihood.log().sum()\n",
    "\n",
    "def dU(theta, observations, s):\n",
    "    theta_var = torch.autograd.Variable(theta, requires_grad=True)\n",
    "    out = U(theta_var, observations, s)\n",
    "    out.backward()\n",
    "    gradient = theta_var.grad\n",
    "    theta_var.detach()\n",
    "    return gradient\n",
    "\n",
    "def K(momentum):\n",
    "    return ((momentum * momentum) / 2).sum()\n",
    "\n",
    "def dK(momentum):\n",
    "    momentum_var = torch.autograd.Variable(momentum, requires_grad=True)\n",
    "    out = K(momentum_var)\n",
    "    out.backward()\n",
    "    gradient = momentum_var.grad\n",
    "    momentum_var.detach()\n",
    "    return gradient\n",
    "\n",
    "momentum_dist = Normal(torch.tensor([0.0]), torch.tensor([1.0]))\n",
    "leapfrog_steps = 30\n",
    "leapfrog_stepsize = 0.0005\n",
    "\n",
    "for i in range(steps):\n",
    "    #print(\"Iteration {} of {}\".format(i+1, steps))\n",
    "\n",
    "    momentum = momentum_dist.rsample()\n",
    "\n",
    "    momentum_next = momentum\n",
    "    theta_next = theta_current\n",
    "\n",
    "    for j in range(leapfrog_steps):\n",
    "        momentum_next = momentum_next - (leapfrog_stepsize / 2) * dU(theta_next, true_obs, s)\n",
    "        theta_next = theta_next + leapfrog_stepsize * dK(momentum_next)\n",
    "        momentum_next = momentum_next - (leapfrog_stepsize / 2) * dU(theta_next, true_obs, s)\n",
    "\n",
    "    rho = (U(theta_current, true_obs, s) - U(theta_next, true_obs, s)) - \\\n",
    "          K(momentum_next) + K(momentum)\n",
    "\n",
    "    rho = rho.exp()\n",
    "    u = np.random.uniform()\n",
    "    a = min([1, rho])\n",
    "\n",
    "    #print(\"Current: {}\".format(theta_current.item()))\n",
    "    #print(\"Next: {}\".format(theta_next.item()))\n",
    "    #print(\"Rho: {}\".format(rho))\n",
    "\n",
    "    if u <= a:\n",
    "        theta_current = theta_next\n",
    "        #print(\"ACCEPTED\")\n",
    "    #print(\"####################\\n\")\n",
    "\n",
    "    thetas.append(theta_current.item())\n",
    "\n",
    "mean_theta = sum(thetas) / float(len(thetas))\n",
    "print(\"Mean of estimated thetas: {}\".format(mean_theta))"
   ]
  }
 ],
 "metadata": {
  "kernelspec": {
   "display_name": "Python 3",
   "language": "python",
   "name": "python3"
  },
  "language_info": {
   "codemirror_mode": {
    "name": "ipython",
    "version": 3
   },
   "file_extension": ".py",
   "mimetype": "text/x-python",
   "name": "python",
   "nbconvert_exporter": "python",
   "pygments_lexer": "ipython3",
   "version": "3.6.3"
  }
 },
 "nbformat": 4,
 "nbformat_minor": 2
}
