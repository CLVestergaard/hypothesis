{
 "cells": [
  {
   "cell_type": "markdown",
   "metadata": {},
   "source": [
    "# Classifier Metropolis Hastings"
   ]
  },
  {
   "cell_type": "code",
   "execution_count": 1,
   "metadata": {},
   "outputs": [],
   "source": [
    "import numpy as np\n",
    "import torch\n",
    "import matplotlib.pyplot as plt\n",
    "import matplotlib.mlab as mlab"
   ]
  },
  {
   "cell_type": "markdown",
   "metadata": {},
   "source": [
    "Shows you how to use Metropolis Hastings MCMC for inference problems."
   ]
  },
  {
   "cell_type": "markdown",
   "metadata": {},
   "source": [
    "## Poisson"
   ]
  },
  {
   "cell_type": "code",
   "execution_count": 2,
   "metadata": {},
   "outputs": [
    {
     "data": {
      "image/png": "[encoded data removed]",
      "text/plain": [
       "<Figure size 432x288 with 1 Axes>"
      ]
     },
     "metadata": {},
     "output_type": "display_data"
    }
   ],
   "source": [
    "from cag.benchmark.poisson import allocate_observations\n",
    "\n",
    "# Sample the (true) observations.\n",
    "theta_true, x_o = allocate_observations(2.)\n",
    "\n",
    "plt.hist(x_o.numpy(), bins=20, density=True)\n",
    "plt.show()"
   ]
  },
  {
   "cell_type": "code",
   "execution_count": 3,
   "metadata": {},
   "outputs": [],
   "source": [
    "from cag.benchmark.poisson import PoissonSimulator as Simulator\n",
    "\n",
    "simulator = Simulator()"
   ]
  },
  {
   "cell_type": "code",
   "execution_count": 4,
   "metadata": {},
   "outputs": [],
   "source": [
    "from cag.transition import UniformTransitionDistribution\n",
    "\n",
    "transition = UniformTransitionDistribution(0,5)"
   ]
  },
  {
   "cell_type": "code",
   "execution_count": 129,
   "metadata": {},
   "outputs": [],
   "source": [
    "def allocate_classifier():\n",
    "    hidden = 100\n",
    "    return torch.nn.Sequential(\n",
    "    torch.nn.Linear(1, hidden),\n",
    "    torch.nn.PReLU(),\n",
    "    torch.nn.Linear(hidden, hidden),\n",
    "    torch.nn.PReLU(),\n",
    "    torch.nn.Linear(hidden, hidden),\n",
    "    torch.nn.PReLU(),\n",
    "    torch.nn.Linear(hidden, hidden),\n",
    "    torch.nn.PReLU(),\n",
    "    torch.nn.Linear(hidden, hidden),\n",
    "    torch.nn.PReLU(),\n",
    "    torch.nn.Linear(hidden, hidden),\n",
    "    torch.nn.PReLU(),\n",
    "    torch.nn.Linear(hidden, hidden),\n",
    "    torch.nn.PReLU(),\n",
    "    torch.nn.Linear(hidden, 1),\n",
    "    torch.nn.Sigmoid()\n",
    ")"
   ]
  },
  {
   "cell_type": "code",
   "execution_count": 111,
   "metadata": {},
   "outputs": [],
   "source": [
    "from cag.inference import ClassifierMetropolisHastings\n",
    "\n",
    "cmh = ClassifierMetropolisHastings(simulator, allocate_classifier(), transition)"
   ]
  },
  {
   "cell_type": "code",
   "execution_count": 112,
   "metadata": {},
   "outputs": [],
   "source": [
    "initializer = torch.distributions.uniform.Uniform(0, 5)\n",
    "\n",
    "#cmh.infer(x_o, initializer, 1000)"
   ]
  },
  {
   "cell_type": "code",
   "execution_count": 155,
   "metadata": {},
   "outputs": [
    {
     "name": "stdout",
     "output_type": "stream",
     "text": [
      "tensor([2.3537])\n",
      "tensor([2.8904])\n"
     ]
    },
    {
     "data": {
      "image/png": "[encoded data removed]",
      "text/plain": [
       "<Figure size 432x288 with 1 Axes>"
      ]
     },
     "metadata": {},
     "output_type": "display_data"
    }
   ],
   "source": [
    "a = initializer.sample().view(-1)\n",
    "x_a = cmh._simulate(theta_true)\n",
    "print(a)\n",
    "b = initializer.sample().view(-1)\n",
    "x_b = cmh._simulate(b)\n",
    "print(b)\n",
    "\n",
    "bins=20\n",
    "plt.hist(x_a.numpy(), bins=bins, label=\"A\", density=True)\n",
    "plt.hist(x_b.numpy(), bins=bins, alpha=.75, label=\"B\", density=True)\n",
    "plt.hist(x_o.numpy(), bins=25, alpha=.75, label=\"Observation\", density=True)\n",
    "plt.legend()\n",
    "plt.show()"
   ]
  },
  {
   "cell_type": "code",
   "execution_count": 9,
   "metadata": {},
   "outputs": [],
   "source": [
    "from cag.util import sample"
   ]
  },
  {
   "cell_type": "code",
   "execution_count": 10,
   "metadata": {},
   "outputs": [],
   "source": [
    "from cag.inference.avo import r1"
   ]
  },
  {
   "cell_type": "code",
   "execution_count": 156,
   "metadata": {},
   "outputs": [
    {
     "name": "stdout",
     "output_type": "stream",
     "text": [
      "7.99996280670166\n"
     ]
    },
    {
     "data": {
      "image/png": "[encoded data removed]",
      "text/plain": [
       "<Figure size 432x288 with 1 Axes>"
      ]
     },
     "metadata": {},
     "output_type": "display_data"
    }
   ],
   "source": [
    "batch_size = 32\n",
    "real = torch.ones(batch_size, 1)\n",
    "fake = torch.zeros(batch_size, 1)\n",
    "\n",
    "bce = torch.nn.BCELoss(reduction=\"sum\")\n",
    "mse = torch.nn.MSELoss(reduction=\"sum\")\n",
    "classifier = allocate_classifier()\n",
    "theta = torch.tensor(b).view(-1, 1)\n",
    "optimizer = torch.optim.Adam(classifier.parameters())\n",
    "for i in range(10000):\n",
    "    x_real = sample(x_o, batch_size)\n",
    "    x_real.requires_grad = True\n",
    "    x_fake = sample(x_a, batch_size)\n",
    "    y_real = classifier(x_real)\n",
    "    y_fake = classifier(x_fake)\n",
    "    loss = (mse(y_real, real) + mse(y_fake, fake)) / 2.\n",
    "    gradients = torch.autograd.grad(loss, classifier.parameters(), create_graph=True)\n",
    "    gradient_norm = 0\n",
    "    for gradient in gradients:\n",
    "        gradient_norm = gradient_norm + (gradient ** 2).norm(p=1)\n",
    "    gradient_norm /= len(gradients)\n",
    "    loss = loss + gradient_norm\n",
    "    #loss = loss + 10. * r1(y_real, x_real).mean()\n",
    "    optimizer.zero_grad()\n",
    "    loss.backward()\n",
    "    optimizer.step()\n",
    "    \n",
    "print(loss.item())\n",
    "y = classifier(x_o)\n",
    "plt.scatter(x_o.detach().numpy(), y.detach().numpy())\n",
    "plt.show()"
   ]
  },
  {
   "cell_type": "code",
   "execution_count": 157,
   "metadata": {},
   "outputs": [
    {
     "name": "stderr",
     "output_type": "stream",
     "text": [
      "/home/joeri/Anaconda/lib/python3.6/site-packages/ipykernel_launcher.py:11: RuntimeWarning: invalid value encountered in double_scalars\n",
      "  # This is added back by InteractiveShellApp.init_path()\n"
     ]
    },
    {
     "data": {
      "image/png": "[encoded data removed]",
      "text/plain": [
       "<Figure size 432x288 with 1 Axes>"
      ]
     },
     "metadata": {},
     "output_type": "display_data"
    }
   ],
   "source": [
    "x = np.arange(0, 14, 1)\n",
    "h_a, _ = np.histogram(x_a.numpy(), density=True, bins=x)\n",
    "h_o, _ = np.histogram(x_o.numpy(), density=True, bins=x)\n",
    "\n",
    "x_plot = np.arange(0, 13, 1)\n",
    "plt.plot(x_plot, h_a)\n",
    "plt.plot(x_plot, h_o)\n",
    "plt.scatter(x_o.detach().numpy(), classifier(x_o).detach().numpy(), label=\"Classifier density ratio\")\n",
    "true_ratio = []\n",
    "for x in x_plot:\n",
    "    true_ratio.append(h_o[x] / (h_o[x] + h_a[x]))\n",
    "plt.scatter(x_plot, true_ratio, label=\"True density ratio\")\n",
    "plt.legend()\n",
    "plt.ylim([0, 1])\n",
    "plt.show()"
   ]
  },
  {
   "cell_type": "code",
   "execution_count": 148,
   "metadata": {},
   "outputs": [
    {
     "data": {
      "text/plain": [
       "tensor(0.6418)"
      ]
     },
     "execution_count": 148,
     "metadata": {},
     "output_type": "execute_result"
    }
   ],
   "source": [
    "classifier(x_o).mean().detach()"
   ]
  },
  {
   "cell_type": "code",
   "execution_count": 141,
   "metadata": {},
   "outputs": [
    {
     "name": "stdout",
     "output_type": "stream",
     "text": [
      "7.282537460327148\n"
     ]
    },
    {
     "data": {
      "image/png": "[encoded data removed]",
      "text/plain": [
       "<Figure size 432x288 with 1 Axes>"
      ]
     },
     "metadata": {},
     "output_type": "display_data"
    }
   ],
   "source": [
    "batch_size = 32\n",
    "real = torch.ones(batch_size, 1)\n",
    "fake = torch.zeros(batch_size, 1)\n",
    "\n",
    "bce = torch.nn.BCELoss(reduction=\"sum\")\n",
    "mse = torch.nn.MSELoss(reduction=\"sum\")\n",
    "classifier = allocate_classifier()\n",
    "optimizer = torch.optim.Adam(classifier.parameters())\n",
    "for i in range(10000):\n",
    "    x_real = sample(x_o, batch_size)\n",
    "    x_real.requires_grad = True\n",
    "    x_fake = sample(x_b, batch_size)\n",
    "    y_real = classifier(x_real)\n",
    "    y_fake = classifier(x_fake)\n",
    "    loss = (mse(y_real, real) + mse(y_fake, fake)) / 2.\n",
    "    #gradients = torch.autograd.grad(loss, classifier.parameters(), create_graph=True)\n",
    "    #gradient_norm = 0\n",
    "    #for gradient in gradients:\n",
    "    #    gradient_norm = gradient_norm + (gradient ** 2).norm(p=1)\n",
    "    #gradient_norm /= len(gradients)\n",
    "    #loss = loss + gradient_norm\n",
    "    #loss = loss + 10. * r1(y_real, x_real).mean()\n",
    "    optimizer.zero_grad()\n",
    "    loss.backward()\n",
    "    optimizer.step()\n",
    "    \n",
    "print(loss.item())\n",
    "y = classifier(x_o)\n",
    "plt.scatter(x_o.detach().numpy(), y.detach().numpy())\n",
    "plt.show()"
   ]
  },
  {
   "cell_type": "code",
   "execution_count": 142,
   "metadata": {},
   "outputs": [
    {
     "data": {
      "image/png": "[encoded data removed]",
      "text/plain": [
       "<Figure size 432x288 with 1 Axes>"
      ]
     },
     "metadata": {},
     "output_type": "display_data"
    }
   ],
   "source": [
    "x = np.arange(0, 14, 1)\n",
    "h_b, _ = np.histogram(x_b.numpy(), density=True, bins=x)\n",
    "h_o, _ = np.histogram(x_o.numpy(), density=True, bins=x)\n",
    "\n",
    "x_plot = np.arange(0, 13, 1)\n",
    "plt.plot(x_plot, h_b)\n",
    "plt.plot(x_plot, h_o)\n",
    "plt.scatter(x_o.detach().numpy(), classifier(x_o).detach().numpy(), label=\"Classifier density ratio\")\n",
    "true_ratio = []\n",
    "for x in x_plot:\n",
    "    true_ratio.append(h_o[x] / (h_o[x] + h_b[x]))\n",
    "plt.scatter(x_plot, true_ratio, label=\"True density ratio\")\n",
    "plt.legend()\n",
    "plt.ylim([0, 1])\n",
    "plt.show()"
   ]
  },
  {
   "cell_type": "code",
   "execution_count": 143,
   "metadata": {},
   "outputs": [
    {
     "data": {
      "text/plain": [
       "tensor(0.6416)"
      ]
     },
     "execution_count": 143,
     "metadata": {},
     "output_type": "execute_result"
    }
   ],
   "source": [
    "classifier(x_o).mean().detach()"
   ]
  },
  {
   "cell_type": "code",
   "execution_count": 144,
   "metadata": {},
   "outputs": [
    {
     "data": {
      "text/plain": [
       "0.9478735971647962"
      ]
     },
     "execution_count": 144,
     "metadata": {},
     "output_type": "execute_result"
    }
   ],
   "source": [
    "0.6419 / 0.6772"
   ]
  },
  {
   "cell_type": "markdown",
   "metadata": {},
   "source": [
    "## Normal"
   ]
  },
  {
   "cell_type": "code",
   "execution_count": 16,
   "metadata": {},
   "outputs": [],
   "source": [
    "from torch.distributions.normal import Normal\n",
    "\n",
    "mu = 0\n",
    "sigma = 1\n",
    "normal = Normal(torch.tensor(mu).float(), torch.tensor(sigma).float())\n",
    "def likelihood(theta):\n",
    "    return normal.log_prob(theta).exp()"
   ]
  },
  {
   "cell_type": "code",
   "execution_count": 17,
   "metadata": {},
   "outputs": [
    {
     "ename": "ModuleNotFoundError",
     "evalue": "No module named 'cag.sampling.transition'",
     "output_type": "error",
     "traceback": [
      "\u001b[0;31m---------------------------------------------------------------------------\u001b[0m",
      "\u001b[0;31mModuleNotFoundError\u001b[0m                       Traceback (most recent call last)",
      "\u001b[0;32m<ipython-input-17-633c8345b9f9>\u001b[0m in \u001b[0;36m<module>\u001b[0;34m()\u001b[0m\n\u001b[0;32m----> 1\u001b[0;31m \u001b[0;32mfrom\u001b[0m \u001b[0mcag\u001b[0m\u001b[0;34m.\u001b[0m\u001b[0msampling\u001b[0m\u001b[0;34m.\u001b[0m\u001b[0mtransition\u001b[0m \u001b[0;32mimport\u001b[0m \u001b[0mUniformTransitionDistribution\u001b[0m\u001b[0;34m\u001b[0m\u001b[0m\n\u001b[0m\u001b[1;32m      2\u001b[0m \u001b[0;34m\u001b[0m\u001b[0m\n\u001b[1;32m      3\u001b[0m \u001b[0mmin\u001b[0m \u001b[0;34m=\u001b[0m \u001b[0mtorch\u001b[0m\u001b[0;34m.\u001b[0m\u001b[0mtensor\u001b[0m\u001b[0;34m(\u001b[0m\u001b[0;34m-\u001b[0m\u001b[0;36m10\u001b[0m\u001b[0;34m)\u001b[0m\u001b[0;34m.\u001b[0m\u001b[0mfloat\u001b[0m\u001b[0;34m(\u001b[0m\u001b[0;34m)\u001b[0m\u001b[0;34m\u001b[0m\u001b[0m\n\u001b[1;32m      4\u001b[0m \u001b[0mmax\u001b[0m \u001b[0;34m=\u001b[0m \u001b[0mtorch\u001b[0m\u001b[0;34m.\u001b[0m\u001b[0mtensor\u001b[0m\u001b[0;34m(\u001b[0m\u001b[0;36m10\u001b[0m\u001b[0;34m)\u001b[0m\u001b[0;34m.\u001b[0m\u001b[0mfloat\u001b[0m\u001b[0;34m(\u001b[0m\u001b[0;34m)\u001b[0m\u001b[0;34m\u001b[0m\u001b[0m\n\u001b[1;32m      5\u001b[0m \u001b[0mtransition\u001b[0m \u001b[0;34m=\u001b[0m \u001b[0mUniformTransitionDistribution\u001b[0m\u001b[0;34m(\u001b[0m\u001b[0mmin\u001b[0m\u001b[0;34m,\u001b[0m \u001b[0mmax\u001b[0m\u001b[0;34m)\u001b[0m\u001b[0;34m\u001b[0m\u001b[0m\n",
      "\u001b[0;31mModuleNotFoundError\u001b[0m: No module named 'cag.sampling.transition'"
     ]
    }
   ],
   "source": [
    "from cag.sampling.transition import UniformTransitionDistribution\n",
    "\n",
    "min = torch.tensor(-10).float()\n",
    "max = torch.tensor(10).float()\n",
    "transition = UniformTransitionDistribution(min, max)"
   ]
  },
  {
   "cell_type": "code",
   "execution_count": null,
   "metadata": {},
   "outputs": [],
   "source": [
    "from cag.sampling import MetropolisHastings\n",
    "\n",
    "mcmc = MetropolisHastings(likelihood, transition)"
   ]
  },
  {
   "cell_type": "code",
   "execution_count": null,
   "metadata": {},
   "outputs": [],
   "source": [
    "from torch.distributions.uniform import Uniform\n",
    "\n",
    "initializer = Uniform(min, max)\n",
    "num_samples = 100000\n",
    "samples = mcmc.sample(initializer, num_samples).squeeze()"
   ]
  },
  {
   "cell_type": "code",
   "execution_count": null,
   "metadata": {},
   "outputs": [],
   "source": [
    "plt.hist(samples.numpy(), bins=25, density=True, label=\"Sampled\")\n",
    "x = np.linspace(float(min), float(max), 1000)\n",
    "plt.plot(x, mlab.normpdf(x, float(mu), float(sigma)), lw=2, c='black', label=\"Truth\")\n",
    "plt.legend()\n",
    "plt.show()"
   ]
  }
 ],
 "metadata": {
  "kernelspec": {
   "display_name": "Python 3",
   "language": "python",
   "name": "python3"
  },
  "language_info": {
   "codemirror_mode": {
    "name": "ipython",
    "version": 3
   },
   "file_extension": ".py",
   "mimetype": "text/x-python",
   "name": "python",
   "nbconvert_exporter": "python",
   "pygments_lexer": "ipython3",
   "version": "3.6.4"
  }
 },
 "nbformat": 4,
 "nbformat_minor": 2
}
