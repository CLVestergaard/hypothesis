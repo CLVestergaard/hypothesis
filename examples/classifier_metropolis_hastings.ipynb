{
 "cells": [
  {
   "cell_type": "markdown",
   "metadata": {},
   "source": [
    "# Classifier Metropolis Hastings"
   ]
  },
  {
   "cell_type": "code",
   "execution_count": 1,
   "metadata": {},
   "outputs": [],
   "source": [
    "import numpy as np\n",
    "import torch\n",
    "import matplotlib.pyplot as plt\n",
    "\n",
    "import matplotlib.mlab as mlab"
   ]
  },
  {
   "cell_type": "markdown",
   "metadata": {},
   "source": [
    "Shows you how to use Metropolis Hastings MCMC for inference problems."
   ]
  },
  {
   "cell_type": "markdown",
   "metadata": {},
   "source": [
    "## Poisson"
   ]
  },
  {
   "cell_type": "code",
   "execution_count": 4,
   "metadata": {},
   "outputs": [
    {
     "data": {
      "image/png": "[encoded data removed]",
      "text/plain": [
       "<Figure size 432x288 with 1 Axes>"
      ]
     },
     "metadata": {},
     "output_type": "display_data"
    }
   ],
   "source": [
    "from cag.benchmark.poisson import allocate_observations\n",
    "\n",
    "# Sample the (true) observations.\n",
    "theta_true, x_o = allocate_observations(2.)\n",
    "\n",
    "plt.hist(x_o.numpy(), bins=20, density=True)\n",
    "plt.show()"
   ]
  },
  {
   "cell_type": "code",
   "execution_count": 5,
   "metadata": {},
   "outputs": [],
   "source": [
    "from cag.benchmark.poisson import PoissonSimulator as Simulator\n",
    "\n",
    "simulator = Simulator()"
   ]
  },
  {
   "cell_type": "code",
   "execution_count": 6,
   "metadata": {},
   "outputs": [],
   "source": [
    "from cag.transition import UniformTransitionDistribution\n",
    "\n",
    "transition = UniformTransitionDistribution(0,5)"
   ]
  },
  {
   "cell_type": "code",
   "execution_count": 7,
   "metadata": {},
   "outputs": [],
   "source": [
    "def allocate_classifier():\n",
    "    hidden = 100\n",
    "    return torch.nn.Sequential(\n",
    "    torch.nn.Linear(1, hidden),\n",
    "    torch.nn.PReLU(),\n",
    "    torch.nn.Linear(hidden, hidden),\n",
    "    torch.nn.PReLU(),\n",
    "    torch.nn.Linear(hidden, hidden),\n",
    "    torch.nn.PReLU(),\n",
    "    torch.nn.Linear(hidden, hidden),\n",
    "    torch.nn.PReLU(),\n",
    "    torch.nn.Linear(hidden, hidden),\n",
    "    torch.nn.PReLU(),\n",
    "    torch.nn.Linear(hidden, hidden),\n",
    "    torch.nn.PReLU(),\n",
    "    torch.nn.Linear(hidden, hidden),\n",
    "    torch.nn.PReLU(),\n",
    "    torch.nn.Linear(hidden, 1),\n",
    "    torch.nn.Sigmoid()\n",
    ")"
   ]
  },
  {
   "cell_type": "code",
   "execution_count": 8,
   "metadata": {},
   "outputs": [],
   "source": [
    "from cag.inference import LikelihoodFreeMetropolisHastings\n",
    "\n",
    "cmh = LikelihoodFreeMetropolisHastings(simulator, allocate_classifier(), transition)"
   ]
  },
  {
   "cell_type": "code",
   "execution_count": 9,
   "metadata": {},
   "outputs": [],
   "source": [
    "initializer = torch.distributions.uniform.Uniform(0, 5)\n",
    "\n",
    "#cmh.infer(x_o, initializer, 1000)"
   ]
  },
  {
   "cell_type": "code",
   "execution_count": 10,
   "metadata": {},
   "outputs": [],
   "source": [
    "from cag.util import sample"
   ]
  },
  {
   "cell_type": "code",
   "execution_count": 11,
   "metadata": {},
   "outputs": [],
   "source": [
    "from cag.inference.avo import r1"
   ]
  },
  {
   "cell_type": "markdown",
   "metadata": {},
   "source": [
    "## Testing"
   ]
  },
  {
   "cell_type": "code",
   "execution_count": 12,
   "metadata": {},
   "outputs": [],
   "source": [
    "a = initializer.sample().view(-1)\n",
    "a = torch.tensor([4.6642])\n",
    "x_a = cmh._simulate(a)\n",
    "b = initializer.sample().view(-1)\n",
    "b = torch.tensor([3.9817])\n",
    "x_b = cmh._simulate(b)"
   ]
  },
  {
   "cell_type": "code",
   "execution_count": 13,
   "metadata": {},
   "outputs": [],
   "source": [
    "batch_size = 32\n",
    "real = torch.ones(batch_size, 1)\n",
    "fake = torch.zeros(batch_size, 1)\n",
    "\n",
    "bce = torch.nn.BCELoss()\n",
    "mse = torch.nn.MSELoss()\n",
    "classifier = allocate_classifier()\n",
    "optimizer = torch.optim.Adam(classifier.parameters())\n",
    "for i in range(5000):\n",
    "    x_real = sample(x_a, batch_size)\n",
    "    #x_real.requires_grad = True\n",
    "    x_fake = sample(x_b, batch_size)\n",
    "    y_real = classifier(x_real)\n",
    "    y_fake = classifier(x_fake)\n",
    "    loss = (mse(y_real, real) + mse(y_fake, fake)) / 2.\n",
    "    gradients = torch.autograd.grad(loss, classifier.parameters(), create_graph=True)\n",
    "    gradient_norm = 0\n",
    "    for gradient in gradients:\n",
    "        gradient_norm = gradient_norm + (gradient ** 2).norm(p=1)\n",
    "    gradient_norm /= len(gradients)\n",
    "    loss = loss + gradient_norm\n",
    "    optimizer.zero_grad()\n",
    "    loss.backward()\n",
    "    optimizer.step()"
   ]
  },
  {
   "cell_type": "code",
   "execution_count": 14,
   "metadata": {},
   "outputs": [
    {
     "data": {
      "image/png": "[encoded data removed]",
      "text/plain": [
       "<Figure size 432x288 with 1 Axes>"
      ]
     },
     "metadata": {},
     "output_type": "display_data"
    }
   ],
   "source": [
    "x = np.arange(0, 14, 1)\n",
    "h_a, _ = np.histogram(x_a.numpy(), density=True, bins=x)\n",
    "h_b, _ = np.histogram(x_b.numpy(), density=True, bins=x)\n",
    "h_o, _ = np.histogram(x_o.numpy(), density=True, bins=x)\n",
    "\n",
    "x_plot = np.arange(0, 13, 1)\n",
    "plt.plot(x_plot, h_a)\n",
    "plt.plot(x_plot, h_b)\n",
    "plt.plot(x_plot, h_o)\n",
    "plt.scatter(x_o.detach().numpy(), classifier(x_o).detach().numpy(), label=\"Classifier density ratio\")\n",
    "true_ratio = []\n",
    "for x in x_plot:\n",
    "    true_ratio.append(h_a[x] / (h_a[x] + h_b[x]))\n",
    "plt.scatter(x_plot, true_ratio, label=\"True density ratio\")\n",
    "plt.legend()\n",
    "plt.ylim([0, 1])\n",
    "plt.show()"
   ]
  },
  {
   "cell_type": "code",
   "execution_count": 15,
   "metadata": {},
   "outputs": [
    {
     "data": {
      "text/plain": [
       "tensor(0.6217)"
      ]
     },
     "execution_count": 15,
     "metadata": {},
     "output_type": "execute_result"
    }
   ],
   "source": [
    "(classifier(x_o).detach()).mean() / (1 - (classifier(x_o).detach()).mean())"
   ]
  }
 ],
 "metadata": {
  "kernelspec": {
   "display_name": "Python 3",
   "language": "python",
   "name": "python3"
  },
  "language_info": {
   "codemirror_mode": {
    "name": "ipython",
    "version": 3
   },
   "file_extension": ".py",
   "mimetype": "text/x-python",
   "name": "python",
   "nbconvert_exporter": "python",
   "pygments_lexer": "ipython3",
   "version": "3.6.4"
  }
 },
 "nbformat": 4,
 "nbformat_minor": 2
}
